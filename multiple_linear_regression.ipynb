{
 "cells": [
  {
   "cell_type": "markdown",
   "metadata": {},
   "source": [
    "#  Premiere League Regression Analysis Part II (Multivariate approach)"
   ]
  },
  {
   "cell_type": "markdown",
   "metadata": {},
   "source": [
    "### Import Libraries"
   ]
  },
  {
   "cell_type": "code",
   "execution_count": 86,
   "metadata": {},
   "outputs": [],
   "source": [
    "# Import packages and libraries\n",
    "import pandas as pd\n",
    "import numpy as np\n",
    "import matplotlib.pyplot as plt\n",
    "import seaborn as sns\n",
    "import plotly.express as px\n",
    "\n",
    "from sklearn.model_selection import train_test_split\n",
    "from sklearn.linear_model import LinearRegression\n",
    "from sklearn.metrics import r2_score, mean_squared_error\n",
    "import statsmodels.api as sm\n",
    "import scipy as stats\n",
    "import scipy"
   ]
  },
  {
   "cell_type": "markdown",
   "metadata": {},
   "source": [
    "### Load Data"
   ]
  },
  {
   "cell_type": "code",
   "execution_count": 3,
   "metadata": {},
   "outputs": [
    {
     "data": {
      "text/html": [
       "<div>\n",
       "<style scoped>\n",
       "    .dataframe tbody tr th:only-of-type {\n",
       "        vertical-align: middle;\n",
       "    }\n",
       "\n",
       "    .dataframe tbody tr th {\n",
       "        vertical-align: top;\n",
       "    }\n",
       "\n",
       "    .dataframe thead th {\n",
       "        text-align: right;\n",
       "    }\n",
       "</style>\n",
       "<table border=\"1\" class=\"dataframe\">\n",
       "  <thead>\n",
       "    <tr style=\"text-align: right;\">\n",
       "      <th></th>\n",
       "      <th>PlayerName</th>\n",
       "      <th>Club</th>\n",
       "      <th>DistanceCovered(InKms)</th>\n",
       "      <th>Goals</th>\n",
       "      <th>MinutestoGoalRatio</th>\n",
       "      <th>ShotsPerGame</th>\n",
       "      <th>AgentCharges</th>\n",
       "      <th>BMI</th>\n",
       "      <th>Cost</th>\n",
       "      <th>PreviousClubCost</th>\n",
       "      <th>Height</th>\n",
       "      <th>Weight</th>\n",
       "      <th>Score</th>\n",
       "    </tr>\n",
       "  </thead>\n",
       "  <tbody>\n",
       "    <tr>\n",
       "      <th>0</th>\n",
       "      <td>Braund, Mr. Owen Harris</td>\n",
       "      <td>MUN</td>\n",
       "      <td>3.96</td>\n",
       "      <td>7.5</td>\n",
       "      <td>37.5</td>\n",
       "      <td>12.3</td>\n",
       "      <td>60</td>\n",
       "      <td>20.56</td>\n",
       "      <td>109.1</td>\n",
       "      <td>63.32</td>\n",
       "      <td>195.9</td>\n",
       "      <td>78.9</td>\n",
       "      <td>19.75</td>\n",
       "    </tr>\n",
       "    <tr>\n",
       "      <th>1</th>\n",
       "      <td>Allen, Mr. William Henry</td>\n",
       "      <td>MUN</td>\n",
       "      <td>4.41</td>\n",
       "      <td>8.3</td>\n",
       "      <td>38.2</td>\n",
       "      <td>12.7</td>\n",
       "      <td>68</td>\n",
       "      <td>20.67</td>\n",
       "      <td>102.8</td>\n",
       "      <td>58.55</td>\n",
       "      <td>189.7</td>\n",
       "      <td>74.4</td>\n",
       "      <td>21.30</td>\n",
       "    </tr>\n",
       "    <tr>\n",
       "      <th>2</th>\n",
       "      <td>Moran, Mr. James</td>\n",
       "      <td>MUN</td>\n",
       "      <td>4.14</td>\n",
       "      <td>5.0</td>\n",
       "      <td>36.4</td>\n",
       "      <td>11.6</td>\n",
       "      <td>21</td>\n",
       "      <td>21.86</td>\n",
       "      <td>104.6</td>\n",
       "      <td>55.36</td>\n",
       "      <td>177.8</td>\n",
       "      <td>69.1</td>\n",
       "      <td>19.88</td>\n",
       "    </tr>\n",
       "    <tr>\n",
       "      <th>3</th>\n",
       "      <td>McCarthy, Mr. Timothy J</td>\n",
       "      <td>MUN</td>\n",
       "      <td>4.11</td>\n",
       "      <td>5.3</td>\n",
       "      <td>37.3</td>\n",
       "      <td>12.6</td>\n",
       "      <td>69</td>\n",
       "      <td>21.88</td>\n",
       "      <td>126.4</td>\n",
       "      <td>57.18</td>\n",
       "      <td>185.0</td>\n",
       "      <td>74.9</td>\n",
       "      <td>23.66</td>\n",
       "    </tr>\n",
       "    <tr>\n",
       "      <th>4</th>\n",
       "      <td>Palsson, Master. Gosta Leonard</td>\n",
       "      <td>MUN</td>\n",
       "      <td>4.45</td>\n",
       "      <td>6.8</td>\n",
       "      <td>41.5</td>\n",
       "      <td>14.0</td>\n",
       "      <td>29</td>\n",
       "      <td>18.96</td>\n",
       "      <td>80.3</td>\n",
       "      <td>53.20</td>\n",
       "      <td>184.6</td>\n",
       "      <td>64.6</td>\n",
       "      <td>17.64</td>\n",
       "    </tr>\n",
       "  </tbody>\n",
       "</table>\n",
       "</div>"
      ],
      "text/plain": [
       "                       PlayerName Club  DistanceCovered(InKms)  Goals  \\\n",
       "0         Braund, Mr. Owen Harris  MUN                    3.96    7.5   \n",
       "1        Allen, Mr. William Henry  MUN                    4.41    8.3   \n",
       "2                Moran, Mr. James  MUN                    4.14    5.0   \n",
       "3         McCarthy, Mr. Timothy J  MUN                    4.11    5.3   \n",
       "4  Palsson, Master. Gosta Leonard  MUN                    4.45    6.8   \n",
       "\n",
       "   MinutestoGoalRatio  ShotsPerGame  AgentCharges    BMI   Cost  \\\n",
       "0                37.5          12.3            60  20.56  109.1   \n",
       "1                38.2          12.7            68  20.67  102.8   \n",
       "2                36.4          11.6            21  21.86  104.6   \n",
       "3                37.3          12.6            69  21.88  126.4   \n",
       "4                41.5          14.0            29  18.96   80.3   \n",
       "\n",
       "   PreviousClubCost  Height  Weight  Score  \n",
       "0             63.32   195.9    78.9  19.75  \n",
       "1             58.55   189.7    74.4  21.30  \n",
       "2             55.36   177.8    69.1  19.88  \n",
       "3             57.18   185.0    74.9  23.66  \n",
       "4             53.20   184.6    64.6  17.64  "
      ]
     },
     "execution_count": 3,
     "metadata": {},
     "output_type": "execute_result"
    }
   ],
   "source": [
    "# Read in csv\n",
    "df = pd.read_csv(\"Data/EPL_Soccer_MLR_LR.csv\")\n",
    "\n",
    "# Preview data\n",
    "df.head()"
   ]
  },
  {
   "cell_type": "markdown",
   "metadata": {},
   "source": [
    "### EDA"
   ]
  },
  {
   "cell_type": "code",
   "execution_count": 4,
   "metadata": {},
   "outputs": [
    {
     "name": "stdout",
     "output_type": "stream",
     "text": [
      "<class 'pandas.core.frame.DataFrame'>\n",
      "RangeIndex: 202 entries, 0 to 201\n",
      "Data columns (total 13 columns):\n",
      " #   Column                  Non-Null Count  Dtype  \n",
      "---  ------                  --------------  -----  \n",
      " 0   PlayerName              202 non-null    object \n",
      " 1   Club                    202 non-null    object \n",
      " 2   DistanceCovered(InKms)  202 non-null    float64\n",
      " 3   Goals                   202 non-null    float64\n",
      " 4   MinutestoGoalRatio      202 non-null    float64\n",
      " 5   ShotsPerGame            202 non-null    float64\n",
      " 6   AgentCharges            202 non-null    int64  \n",
      " 7   BMI                     202 non-null    float64\n",
      " 8   Cost                    202 non-null    float64\n",
      " 9   PreviousClubCost        202 non-null    float64\n",
      " 10  Height                  202 non-null    float64\n",
      " 11  Weight                  202 non-null    float64\n",
      " 12  Score                   202 non-null    float64\n",
      "dtypes: float64(10), int64(1), object(2)\n",
      "memory usage: 20.6+ KB\n"
     ]
    }
   ],
   "source": [
    "# Get info\n",
    "df.info()"
   ]
  },
  {
   "cell_type": "code",
   "execution_count": 5,
   "metadata": {},
   "outputs": [
    {
     "data": {
      "text/html": [
       "<div>\n",
       "<style scoped>\n",
       "    .dataframe tbody tr th:only-of-type {\n",
       "        vertical-align: middle;\n",
       "    }\n",
       "\n",
       "    .dataframe tbody tr th {\n",
       "        vertical-align: top;\n",
       "    }\n",
       "\n",
       "    .dataframe thead th {\n",
       "        text-align: right;\n",
       "    }\n",
       "</style>\n",
       "<table border=\"1\" class=\"dataframe\">\n",
       "  <thead>\n",
       "    <tr style=\"text-align: right;\">\n",
       "      <th></th>\n",
       "      <th>DistanceCovered(InKms)</th>\n",
       "      <th>Goals</th>\n",
       "      <th>MinutestoGoalRatio</th>\n",
       "      <th>ShotsPerGame</th>\n",
       "      <th>AgentCharges</th>\n",
       "      <th>BMI</th>\n",
       "      <th>Cost</th>\n",
       "      <th>PreviousClubCost</th>\n",
       "      <th>Height</th>\n",
       "      <th>Weight</th>\n",
       "      <th>Score</th>\n",
       "    </tr>\n",
       "  </thead>\n",
       "  <tbody>\n",
       "    <tr>\n",
       "      <th>count</th>\n",
       "      <td>202.000000</td>\n",
       "      <td>202.000000</td>\n",
       "      <td>202.000000</td>\n",
       "      <td>202.000000</td>\n",
       "      <td>202.000000</td>\n",
       "      <td>202.000000</td>\n",
       "      <td>202.000000</td>\n",
       "      <td>202.000000</td>\n",
       "      <td>202.000000</td>\n",
       "      <td>202.000000</td>\n",
       "      <td>202.000000</td>\n",
       "    </tr>\n",
       "    <tr>\n",
       "      <th>mean</th>\n",
       "      <td>4.718614</td>\n",
       "      <td>7.108663</td>\n",
       "      <td>43.091584</td>\n",
       "      <td>14.566337</td>\n",
       "      <td>76.876238</td>\n",
       "      <td>22.955891</td>\n",
       "      <td>69.021782</td>\n",
       "      <td>64.873713</td>\n",
       "      <td>180.103960</td>\n",
       "      <td>75.008168</td>\n",
       "      <td>13.507426</td>\n",
       "    </tr>\n",
       "    <tr>\n",
       "      <th>std</th>\n",
       "      <td>0.457976</td>\n",
       "      <td>1.800549</td>\n",
       "      <td>3.662989</td>\n",
       "      <td>1.362451</td>\n",
       "      <td>47.501239</td>\n",
       "      <td>2.863933</td>\n",
       "      <td>32.565333</td>\n",
       "      <td>13.070197</td>\n",
       "      <td>9.734494</td>\n",
       "      <td>13.925574</td>\n",
       "      <td>6.189826</td>\n",
       "    </tr>\n",
       "    <tr>\n",
       "      <th>min</th>\n",
       "      <td>3.800000</td>\n",
       "      <td>3.300000</td>\n",
       "      <td>35.900000</td>\n",
       "      <td>11.600000</td>\n",
       "      <td>8.000000</td>\n",
       "      <td>16.750000</td>\n",
       "      <td>28.000000</td>\n",
       "      <td>34.360000</td>\n",
       "      <td>148.900000</td>\n",
       "      <td>37.800000</td>\n",
       "      <td>5.630000</td>\n",
       "    </tr>\n",
       "    <tr>\n",
       "      <th>25%</th>\n",
       "      <td>4.372500</td>\n",
       "      <td>5.900000</td>\n",
       "      <td>40.600000</td>\n",
       "      <td>13.500000</td>\n",
       "      <td>41.250000</td>\n",
       "      <td>21.082500</td>\n",
       "      <td>43.850000</td>\n",
       "      <td>54.667500</td>\n",
       "      <td>174.000000</td>\n",
       "      <td>66.525000</td>\n",
       "      <td>8.545000</td>\n",
       "    </tr>\n",
       "    <tr>\n",
       "      <th>50%</th>\n",
       "      <td>4.755000</td>\n",
       "      <td>6.850000</td>\n",
       "      <td>43.500000</td>\n",
       "      <td>14.700000</td>\n",
       "      <td>65.500000</td>\n",
       "      <td>22.720000</td>\n",
       "      <td>58.600000</td>\n",
       "      <td>63.035000</td>\n",
       "      <td>179.700000</td>\n",
       "      <td>74.400000</td>\n",
       "      <td>11.650000</td>\n",
       "    </tr>\n",
       "    <tr>\n",
       "      <th>75%</th>\n",
       "      <td>5.030000</td>\n",
       "      <td>8.275000</td>\n",
       "      <td>45.575000</td>\n",
       "      <td>15.575000</td>\n",
       "      <td>97.000000</td>\n",
       "      <td>24.465000</td>\n",
       "      <td>90.350000</td>\n",
       "      <td>74.750000</td>\n",
       "      <td>186.175000</td>\n",
       "      <td>84.125000</td>\n",
       "      <td>18.080000</td>\n",
       "    </tr>\n",
       "    <tr>\n",
       "      <th>max</th>\n",
       "      <td>6.720000</td>\n",
       "      <td>14.300000</td>\n",
       "      <td>59.700000</td>\n",
       "      <td>19.200000</td>\n",
       "      <td>234.000000</td>\n",
       "      <td>34.420000</td>\n",
       "      <td>200.800000</td>\n",
       "      <td>106.000000</td>\n",
       "      <td>209.400000</td>\n",
       "      <td>123.200000</td>\n",
       "      <td>35.520000</td>\n",
       "    </tr>\n",
       "  </tbody>\n",
       "</table>\n",
       "</div>"
      ],
      "text/plain": [
       "       DistanceCovered(InKms)       Goals  MinutestoGoalRatio  ShotsPerGame  \\\n",
       "count              202.000000  202.000000          202.000000    202.000000   \n",
       "mean                 4.718614    7.108663           43.091584     14.566337   \n",
       "std                  0.457976    1.800549            3.662989      1.362451   \n",
       "min                  3.800000    3.300000           35.900000     11.600000   \n",
       "25%                  4.372500    5.900000           40.600000     13.500000   \n",
       "50%                  4.755000    6.850000           43.500000     14.700000   \n",
       "75%                  5.030000    8.275000           45.575000     15.575000   \n",
       "max                  6.720000   14.300000           59.700000     19.200000   \n",
       "\n",
       "       AgentCharges         BMI        Cost  PreviousClubCost      Height  \\\n",
       "count    202.000000  202.000000  202.000000        202.000000  202.000000   \n",
       "mean      76.876238   22.955891   69.021782         64.873713  180.103960   \n",
       "std       47.501239    2.863933   32.565333         13.070197    9.734494   \n",
       "min        8.000000   16.750000   28.000000         34.360000  148.900000   \n",
       "25%       41.250000   21.082500   43.850000         54.667500  174.000000   \n",
       "50%       65.500000   22.720000   58.600000         63.035000  179.700000   \n",
       "75%       97.000000   24.465000   90.350000         74.750000  186.175000   \n",
       "max      234.000000   34.420000  200.800000        106.000000  209.400000   \n",
       "\n",
       "           Weight       Score  \n",
       "count  202.000000  202.000000  \n",
       "mean    75.008168   13.507426  \n",
       "std     13.925574    6.189826  \n",
       "min     37.800000    5.630000  \n",
       "25%     66.525000    8.545000  \n",
       "50%     74.400000   11.650000  \n",
       "75%     84.125000   18.080000  \n",
       "max    123.200000   35.520000  "
      ]
     },
     "execution_count": 5,
     "metadata": {},
     "output_type": "execute_result"
    }
   ],
   "source": [
    "# Get basic descriptive statistics\n",
    "df.describe()"
   ]
  },
  {
   "cell_type": "code",
   "execution_count": 33,
   "metadata": {},
   "outputs": [
    {
     "name": "stderr",
     "output_type": "stream",
     "text": [
      "/var/folders/dy/jf6_98vd5sn7lcgfvc6hj8h80000gn/T/ipykernel_72588/1134722465.py:1: FutureWarning:\n",
      "\n",
      "The default value of numeric_only in DataFrame.corr is deprecated. In a future version, it will default to False. Select only valid columns or specify the value of numeric_only to silence this warning.\n",
      "\n"
     ]
    },
    {
     "data": {
      "text/html": [
       "<div>\n",
       "<style scoped>\n",
       "    .dataframe tbody tr th:only-of-type {\n",
       "        vertical-align: middle;\n",
       "    }\n",
       "\n",
       "    .dataframe tbody tr th {\n",
       "        vertical-align: top;\n",
       "    }\n",
       "\n",
       "    .dataframe thead th {\n",
       "        text-align: right;\n",
       "    }\n",
       "</style>\n",
       "<table border=\"1\" class=\"dataframe\">\n",
       "  <thead>\n",
       "    <tr style=\"text-align: right;\">\n",
       "      <th></th>\n",
       "      <th>DistanceCovered(InKms)</th>\n",
       "      <th>Goals</th>\n",
       "      <th>MinutestoGoalRatio</th>\n",
       "      <th>ShotsPerGame</th>\n",
       "      <th>AgentCharges</th>\n",
       "      <th>BMI</th>\n",
       "      <th>Cost</th>\n",
       "      <th>PreviousClubCost</th>\n",
       "      <th>Height</th>\n",
       "      <th>Weight</th>\n",
       "      <th>Score</th>\n",
       "    </tr>\n",
       "  </thead>\n",
       "  <tbody>\n",
       "    <tr>\n",
       "      <th>DistanceCovered(InKms)</th>\n",
       "      <td>1.000000</td>\n",
       "      <td>0.147098</td>\n",
       "      <td>0.924964</td>\n",
       "      <td>0.888800</td>\n",
       "      <td>0.250865</td>\n",
       "      <td>0.299471</td>\n",
       "      <td>-0.403004</td>\n",
       "      <td>0.550975</td>\n",
       "      <td>0.358854</td>\n",
       "      <td>0.403743</td>\n",
       "      <td>-0.493512</td>\n",
       "    </tr>\n",
       "    <tr>\n",
       "      <th>Goals</th>\n",
       "      <td>0.147098</td>\n",
       "      <td>1.000000</td>\n",
       "      <td>0.153333</td>\n",
       "      <td>0.134721</td>\n",
       "      <td>0.131973</td>\n",
       "      <td>0.177032</td>\n",
       "      <td>0.137131</td>\n",
       "      <td>0.102734</td>\n",
       "      <td>0.076958</td>\n",
       "      <td>0.155844</td>\n",
       "      <td>0.108114</td>\n",
       "    </tr>\n",
       "    <tr>\n",
       "      <th>MinutestoGoalRatio</th>\n",
       "      <td>0.924964</td>\n",
       "      <td>0.153333</td>\n",
       "      <td>1.000000</td>\n",
       "      <td>0.950757</td>\n",
       "      <td>0.258240</td>\n",
       "      <td>0.320527</td>\n",
       "      <td>-0.449135</td>\n",
       "      <td>0.583375</td>\n",
       "      <td>0.371192</td>\n",
       "      <td>0.423699</td>\n",
       "      <td>-0.532449</td>\n",
       "    </tr>\n",
       "    <tr>\n",
       "      <th>ShotsPerGame</th>\n",
       "      <td>0.888800</td>\n",
       "      <td>0.134721</td>\n",
       "      <td>0.950757</td>\n",
       "      <td>1.000000</td>\n",
       "      <td>0.308391</td>\n",
       "      <td>0.382524</td>\n",
       "      <td>-0.435429</td>\n",
       "      <td>0.610986</td>\n",
       "      <td>0.352322</td>\n",
       "      <td>0.455255</td>\n",
       "      <td>-0.531522</td>\n",
       "    </tr>\n",
       "    <tr>\n",
       "      <th>AgentCharges</th>\n",
       "      <td>0.250865</td>\n",
       "      <td>0.131973</td>\n",
       "      <td>0.258240</td>\n",
       "      <td>0.308391</td>\n",
       "      <td>1.000000</td>\n",
       "      <td>0.302556</td>\n",
       "      <td>-0.108243</td>\n",
       "      <td>0.317581</td>\n",
       "      <td>0.123255</td>\n",
       "      <td>0.273686</td>\n",
       "      <td>-0.183386</td>\n",
       "    </tr>\n",
       "    <tr>\n",
       "      <th>BMI</th>\n",
       "      <td>0.299471</td>\n",
       "      <td>0.177032</td>\n",
       "      <td>0.320527</td>\n",
       "      <td>0.382524</td>\n",
       "      <td>0.302556</td>\n",
       "      <td>1.000000</td>\n",
       "      <td>0.321116</td>\n",
       "      <td>0.713858</td>\n",
       "      <td>0.337097</td>\n",
       "      <td>0.845955</td>\n",
       "      <td>0.187558</td>\n",
       "    </tr>\n",
       "    <tr>\n",
       "      <th>Cost</th>\n",
       "      <td>-0.403004</td>\n",
       "      <td>0.137131</td>\n",
       "      <td>-0.449135</td>\n",
       "      <td>-0.435429</td>\n",
       "      <td>-0.108243</td>\n",
       "      <td>0.321116</td>\n",
       "      <td>1.000000</td>\n",
       "      <td>-0.207749</td>\n",
       "      <td>-0.071253</td>\n",
       "      <td>0.154227</td>\n",
       "      <td>0.963017</td>\n",
       "    </tr>\n",
       "    <tr>\n",
       "      <th>PreviousClubCost</th>\n",
       "      <td>0.550975</td>\n",
       "      <td>0.102734</td>\n",
       "      <td>0.583375</td>\n",
       "      <td>0.610986</td>\n",
       "      <td>0.317581</td>\n",
       "      <td>0.713858</td>\n",
       "      <td>-0.207749</td>\n",
       "      <td>1.000000</td>\n",
       "      <td>0.802119</td>\n",
       "      <td>0.930904</td>\n",
       "      <td>-0.361850</td>\n",
       "    </tr>\n",
       "    <tr>\n",
       "      <th>Height</th>\n",
       "      <td>0.358854</td>\n",
       "      <td>0.076958</td>\n",
       "      <td>0.371192</td>\n",
       "      <td>0.352322</td>\n",
       "      <td>0.123255</td>\n",
       "      <td>0.337097</td>\n",
       "      <td>-0.071253</td>\n",
       "      <td>0.802119</td>\n",
       "      <td>1.000000</td>\n",
       "      <td>0.780906</td>\n",
       "      <td>-0.188022</td>\n",
       "    </tr>\n",
       "    <tr>\n",
       "      <th>Weight</th>\n",
       "      <td>0.403743</td>\n",
       "      <td>0.155844</td>\n",
       "      <td>0.423699</td>\n",
       "      <td>0.455255</td>\n",
       "      <td>0.273686</td>\n",
       "      <td>0.845955</td>\n",
       "      <td>0.154227</td>\n",
       "      <td>0.930904</td>\n",
       "      <td>0.780906</td>\n",
       "      <td>1.000000</td>\n",
       "      <td>-0.000162</td>\n",
       "    </tr>\n",
       "    <tr>\n",
       "      <th>Score</th>\n",
       "      <td>-0.493512</td>\n",
       "      <td>0.108114</td>\n",
       "      <td>-0.532449</td>\n",
       "      <td>-0.531522</td>\n",
       "      <td>-0.183386</td>\n",
       "      <td>0.187558</td>\n",
       "      <td>0.963017</td>\n",
       "      <td>-0.361850</td>\n",
       "      <td>-0.188022</td>\n",
       "      <td>-0.000162</td>\n",
       "      <td>1.000000</td>\n",
       "    </tr>\n",
       "  </tbody>\n",
       "</table>\n",
       "</div>"
      ],
      "text/plain": [
       "                        DistanceCovered(InKms)     Goals  MinutestoGoalRatio  \\\n",
       "DistanceCovered(InKms)                1.000000  0.147098            0.924964   \n",
       "Goals                                 0.147098  1.000000            0.153333   \n",
       "MinutestoGoalRatio                    0.924964  0.153333            1.000000   \n",
       "ShotsPerGame                          0.888800  0.134721            0.950757   \n",
       "AgentCharges                          0.250865  0.131973            0.258240   \n",
       "BMI                                   0.299471  0.177032            0.320527   \n",
       "Cost                                 -0.403004  0.137131           -0.449135   \n",
       "PreviousClubCost                      0.550975  0.102734            0.583375   \n",
       "Height                                0.358854  0.076958            0.371192   \n",
       "Weight                                0.403743  0.155844            0.423699   \n",
       "Score                                -0.493512  0.108114           -0.532449   \n",
       "\n",
       "                        ShotsPerGame  AgentCharges       BMI      Cost  \\\n",
       "DistanceCovered(InKms)      0.888800      0.250865  0.299471 -0.403004   \n",
       "Goals                       0.134721      0.131973  0.177032  0.137131   \n",
       "MinutestoGoalRatio          0.950757      0.258240  0.320527 -0.449135   \n",
       "ShotsPerGame                1.000000      0.308391  0.382524 -0.435429   \n",
       "AgentCharges                0.308391      1.000000  0.302556 -0.108243   \n",
       "BMI                         0.382524      0.302556  1.000000  0.321116   \n",
       "Cost                       -0.435429     -0.108243  0.321116  1.000000   \n",
       "PreviousClubCost            0.610986      0.317581  0.713858 -0.207749   \n",
       "Height                      0.352322      0.123255  0.337097 -0.071253   \n",
       "Weight                      0.455255      0.273686  0.845955  0.154227   \n",
       "Score                      -0.531522     -0.183386  0.187558  0.963017   \n",
       "\n",
       "                        PreviousClubCost    Height    Weight     Score  \n",
       "DistanceCovered(InKms)          0.550975  0.358854  0.403743 -0.493512  \n",
       "Goals                           0.102734  0.076958  0.155844  0.108114  \n",
       "MinutestoGoalRatio              0.583375  0.371192  0.423699 -0.532449  \n",
       "ShotsPerGame                    0.610986  0.352322  0.455255 -0.531522  \n",
       "AgentCharges                    0.317581  0.123255  0.273686 -0.183386  \n",
       "BMI                             0.713858  0.337097  0.845955  0.187558  \n",
       "Cost                           -0.207749 -0.071253  0.154227  0.963017  \n",
       "PreviousClubCost                1.000000  0.802119  0.930904 -0.361850  \n",
       "Height                          0.802119  1.000000  0.780906 -0.188022  \n",
       "Weight                          0.930904  0.780906  1.000000 -0.000162  \n",
       "Score                          -0.361850 -0.188022 -0.000162  1.000000  "
      ]
     },
     "execution_count": 33,
     "metadata": {},
     "output_type": "execute_result"
    }
   ],
   "source": [
    "df.corr()"
   ]
  },
  {
   "cell_type": "code",
   "execution_count": 57,
   "metadata": {},
   "outputs": [
    {
     "name": "stderr",
     "output_type": "stream",
     "text": [
      "/var/folders/dy/jf6_98vd5sn7lcgfvc6hj8h80000gn/T/ipykernel_72588/1432846707.py:3: FutureWarning:\n",
      "\n",
      "The default value of numeric_only in DataFrame.corr is deprecated. In a future version, it will default to False. Select only valid columns or specify the value of numeric_only to silence this warning.\n",
      "\n"
     ]
    },
    {
     "data": {
      "text/plain": [
       "[Text(0.5, 0, 'DistanceCovered(InKms)'),\n",
       " Text(1.5, 0, 'Goals'),\n",
       " Text(2.5, 0, 'MinutestoGoalRatio'),\n",
       " Text(3.5, 0, 'ShotsPerGame'),\n",
       " Text(4.5, 0, 'AgentCharges'),\n",
       " Text(5.5, 0, 'BMI'),\n",
       " Text(6.5, 0, 'Cost'),\n",
       " Text(7.5, 0, 'PreviousClubCost'),\n",
       " Text(8.5, 0, 'Height'),\n",
       " Text(9.5, 0, 'Weight'),\n",
       " Text(10.5, 0, 'Score')]"
      ]
     },
     "execution_count": 57,
     "metadata": {},
     "output_type": "execute_result"
    },
    {
     "data": {
      "image/png": "[encoded data removed]",
      "text/plain": [
       "<Figure size 640x480 with 2 Axes>"
      ]
     },
     "metadata": {},
     "output_type": "display_data"
    }
   ],
   "source": [
    "# Visualize the correlation\n",
    "ax = sns.heatmap(\n",
    "    df.corr(),\n",
    "    vmin=-1, vmax=1, center=0,\n",
    "    cmap=sns.diverging_palette(20, 220, n=200),\n",
    "    square=True\n",
    ")\n",
    "ax.set_xticklabels(\n",
    "    ax.get_xticklabels(),\n",
    "    rotation=45,\n",
    "    horizontalalignment='right'\n",
    ")\n"
   ]
  },
  {
   "cell_type": "code",
   "execution_count": 28,
   "metadata": {},
   "outputs": [
    {
     "data": {
      "text/html": [
       "<div>\n",
       "<style scoped>\n",
       "    .dataframe tbody tr th:only-of-type {\n",
       "        vertical-align: middle;\n",
       "    }\n",
       "\n",
       "    .dataframe tbody tr th {\n",
       "        vertical-align: top;\n",
       "    }\n",
       "\n",
       "    .dataframe thead th {\n",
       "        text-align: right;\n",
       "    }\n",
       "</style>\n",
       "<table border=\"1\" class=\"dataframe\">\n",
       "  <thead>\n",
       "    <tr style=\"text-align: right;\">\n",
       "      <th></th>\n",
       "      <th>DistanceCovered(InKms)</th>\n",
       "      <th>Goals</th>\n",
       "      <th>ShotsPerGame</th>\n",
       "      <th>AgentCharges</th>\n",
       "      <th>BMI</th>\n",
       "      <th>Cost</th>\n",
       "      <th>PreviousClubCost</th>\n",
       "    </tr>\n",
       "  </thead>\n",
       "  <tbody>\n",
       "    <tr>\n",
       "      <th>0</th>\n",
       "      <td>3.96</td>\n",
       "      <td>7.5</td>\n",
       "      <td>12.3</td>\n",
       "      <td>60</td>\n",
       "      <td>20.56</td>\n",
       "      <td>109.1</td>\n",
       "      <td>63.32</td>\n",
       "    </tr>\n",
       "    <tr>\n",
       "      <th>1</th>\n",
       "      <td>4.41</td>\n",
       "      <td>8.3</td>\n",
       "      <td>12.7</td>\n",
       "      <td>68</td>\n",
       "      <td>20.67</td>\n",
       "      <td>102.8</td>\n",
       "      <td>58.55</td>\n",
       "    </tr>\n",
       "    <tr>\n",
       "      <th>2</th>\n",
       "      <td>4.14</td>\n",
       "      <td>5.0</td>\n",
       "      <td>11.6</td>\n",
       "      <td>21</td>\n",
       "      <td>21.86</td>\n",
       "      <td>104.6</td>\n",
       "      <td>55.36</td>\n",
       "    </tr>\n",
       "    <tr>\n",
       "      <th>3</th>\n",
       "      <td>4.11</td>\n",
       "      <td>5.3</td>\n",
       "      <td>12.6</td>\n",
       "      <td>69</td>\n",
       "      <td>21.88</td>\n",
       "      <td>126.4</td>\n",
       "      <td>57.18</td>\n",
       "    </tr>\n",
       "    <tr>\n",
       "      <th>4</th>\n",
       "      <td>4.45</td>\n",
       "      <td>6.8</td>\n",
       "      <td>14.0</td>\n",
       "      <td>29</td>\n",
       "      <td>18.96</td>\n",
       "      <td>80.3</td>\n",
       "      <td>53.20</td>\n",
       "    </tr>\n",
       "    <tr>\n",
       "      <th>...</th>\n",
       "      <td>...</td>\n",
       "      <td>...</td>\n",
       "      <td>...</td>\n",
       "      <td>...</td>\n",
       "      <td>...</td>\n",
       "      <td>...</td>\n",
       "      <td>...</td>\n",
       "    </tr>\n",
       "    <tr>\n",
       "      <th>197</th>\n",
       "      <td>4.90</td>\n",
       "      <td>7.6</td>\n",
       "      <td>16.0</td>\n",
       "      <td>90</td>\n",
       "      <td>27.56</td>\n",
       "      <td>67.2</td>\n",
       "      <td>82.00</td>\n",
       "    </tr>\n",
       "    <tr>\n",
       "      <th>198</th>\n",
       "      <td>5.66</td>\n",
       "      <td>8.3</td>\n",
       "      <td>17.7</td>\n",
       "      <td>38</td>\n",
       "      <td>23.76</td>\n",
       "      <td>56.5</td>\n",
       "      <td>72.00</td>\n",
       "    </tr>\n",
       "    <tr>\n",
       "      <th>199</th>\n",
       "      <td>5.03</td>\n",
       "      <td>6.4</td>\n",
       "      <td>14.3</td>\n",
       "      <td>122</td>\n",
       "      <td>22.01</td>\n",
       "      <td>47.6</td>\n",
       "      <td>68.00</td>\n",
       "    </tr>\n",
       "    <tr>\n",
       "      <th>200</th>\n",
       "      <td>4.97</td>\n",
       "      <td>8.8</td>\n",
       "      <td>14.9</td>\n",
       "      <td>233</td>\n",
       "      <td>22.34</td>\n",
       "      <td>60.4</td>\n",
       "      <td>63.00</td>\n",
       "    </tr>\n",
       "    <tr>\n",
       "      <th>201</th>\n",
       "      <td>5.38</td>\n",
       "      <td>6.3</td>\n",
       "      <td>15.7</td>\n",
       "      <td>32</td>\n",
       "      <td>21.07</td>\n",
       "      <td>34.9</td>\n",
       "      <td>72.00</td>\n",
       "    </tr>\n",
       "  </tbody>\n",
       "</table>\n",
       "<p>202 rows × 7 columns</p>\n",
       "</div>"
      ],
      "text/plain": [
       "     DistanceCovered(InKms)  Goals  ShotsPerGame  AgentCharges    BMI   Cost  \\\n",
       "0                      3.96    7.5          12.3            60  20.56  109.1   \n",
       "1                      4.41    8.3          12.7            68  20.67  102.8   \n",
       "2                      4.14    5.0          11.6            21  21.86  104.6   \n",
       "3                      4.11    5.3          12.6            69  21.88  126.4   \n",
       "4                      4.45    6.8          14.0            29  18.96   80.3   \n",
       "..                      ...    ...           ...           ...    ...    ...   \n",
       "197                    4.90    7.6          16.0            90  27.56   67.2   \n",
       "198                    5.66    8.3          17.7            38  23.76   56.5   \n",
       "199                    5.03    6.4          14.3           122  22.01   47.6   \n",
       "200                    4.97    8.8          14.9           233  22.34   60.4   \n",
       "201                    5.38    6.3          15.7            32  21.07   34.9   \n",
       "\n",
       "     PreviousClubCost  \n",
       "0               63.32  \n",
       "1               58.55  \n",
       "2               55.36  \n",
       "3               57.18  \n",
       "4               53.20  \n",
       "..                ...  \n",
       "197             82.00  \n",
       "198             72.00  \n",
       "199             68.00  \n",
       "200             63.00  \n",
       "201             72.00  \n",
       "\n",
       "[202 rows x 7 columns]"
      ]
     },
     "metadata": {},
     "output_type": "display_data"
    },
    {
     "data": {
      "text/plain": [
       "0      19.75\n",
       "1      21.30\n",
       "2      19.88\n",
       "3      23.66\n",
       "4      17.64\n",
       "       ...  \n",
       "197    11.79\n",
       "198    10.05\n",
       "199     8.51\n",
       "200    11.50\n",
       "201     6.26\n",
       "Name: Score, Length: 202, dtype: float64"
      ]
     },
     "metadata": {},
     "output_type": "display_data"
    }
   ],
   "source": [
    "# Determine targets and features\n",
    "X = df.iloc[:,[2, 3, 5, 6, 7, 8, 9]]\n",
    "y = df.Score\n",
    "\n",
    "display(X)\n",
    "display(y)"
   ]
  },
  {
   "cell_type": "code",
   "execution_count": 31,
   "metadata": {},
   "outputs": [],
   "source": [
    "# Split the data into train and test split\n",
    "X_train, X_test, y_train, y_test = train_test_split(X, y, test_size=0.75,\n",
    "                                                random_state=42)"
   ]
  },
  {
   "cell_type": "markdown",
   "metadata": {},
   "source": [
    "### Model Selection and Training"
   ]
  },
  {
   "cell_type": "code",
   "execution_count": 32,
   "metadata": {},
   "outputs": [
    {
     "data": {
      "text/html": [
       "<table class=\"simpletable\">\n",
       "<caption>OLS Regression Results</caption>\n",
       "<tr>\n",
       "  <th>Dep. Variable:</th>          <td>Score</td>      <th>  R-squared:         </th> <td>   0.971</td>\n",
       "</tr>\n",
       "<tr>\n",
       "  <th>Model:</th>                   <td>OLS</td>       <th>  Adj. R-squared:    </th> <td>   0.967</td>\n",
       "</tr>\n",
       "<tr>\n",
       "  <th>Method:</th>             <td>Least Squares</td>  <th>  F-statistic:       </th> <td>   203.9</td>\n",
       "</tr>\n",
       "<tr>\n",
       "  <th>Date:</th>             <td>Sat, 19 Nov 2022</td> <th>  Prob (F-statistic):</th> <td>2.63e-30</td>\n",
       "</tr>\n",
       "<tr>\n",
       "  <th>Time:</th>                 <td>02:46:47</td>     <th>  Log-Likelihood:    </th> <td> -75.753</td>\n",
       "</tr>\n",
       "<tr>\n",
       "  <th>No. Observations:</th>      <td>    50</td>      <th>  AIC:               </th> <td>   167.5</td>\n",
       "</tr>\n",
       "<tr>\n",
       "  <th>Df Residuals:</th>          <td>    42</td>      <th>  BIC:               </th> <td>   182.8</td>\n",
       "</tr>\n",
       "<tr>\n",
       "  <th>Df Model:</th>              <td>     7</td>      <th>                     </th>     <td> </td>   \n",
       "</tr>\n",
       "<tr>\n",
       "  <th>Covariance Type:</th>      <td>nonrobust</td>    <th>                     </th>     <td> </td>   \n",
       "</tr>\n",
       "</table>\n",
       "<table class=\"simpletable\">\n",
       "<tr>\n",
       "             <td></td>               <th>coef</th>     <th>std err</th>      <th>t</th>      <th>P>|t|</th>  <th>[0.025</th>    <th>0.975]</th>  \n",
       "</tr>\n",
       "<tr>\n",
       "  <th>const</th>                  <td>   14.1814</td> <td>    2.562</td> <td>    5.535</td> <td> 0.000</td> <td>    9.011</td> <td>   19.352</td>\n",
       "</tr>\n",
       "<tr>\n",
       "  <th>DistanceCovered(InKms)</th> <td>   -0.2884</td> <td>    0.843</td> <td>   -0.342</td> <td> 0.734</td> <td>   -1.989</td> <td>    1.412</td>\n",
       "</tr>\n",
       "<tr>\n",
       "  <th>Goals</th>                  <td>    0.1077</td> <td>    0.109</td> <td>    0.990</td> <td> 0.328</td> <td>   -0.112</td> <td>    0.327</td>\n",
       "</tr>\n",
       "<tr>\n",
       "  <th>ShotsPerGame</th>           <td>   -0.5191</td> <td>    0.305</td> <td>   -1.704</td> <td> 0.096</td> <td>   -1.134</td> <td>    0.096</td>\n",
       "</tr>\n",
       "<tr>\n",
       "  <th>AgentCharges</th>           <td>   -0.0042</td> <td>    0.004</td> <td>   -1.099</td> <td> 0.278</td> <td>   -0.012</td> <td>    0.004</td>\n",
       "</tr>\n",
       "<tr>\n",
       "  <th>BMI</th>                    <td>    0.1316</td> <td>    0.125</td> <td>    1.055</td> <td> 0.297</td> <td>   -0.120</td> <td>    0.383</td>\n",
       "</tr>\n",
       "<tr>\n",
       "  <th>Cost</th>                   <td>    0.1430</td> <td>    0.010</td> <td>   13.999</td> <td> 0.000</td> <td>    0.122</td> <td>    0.164</td>\n",
       "</tr>\n",
       "<tr>\n",
       "  <th>PreviousClubCost</th>       <td>   -0.0795</td> <td>    0.025</td> <td>   -3.150</td> <td> 0.003</td> <td>   -0.130</td> <td>   -0.029</td>\n",
       "</tr>\n",
       "</table>\n",
       "<table class=\"simpletable\">\n",
       "<tr>\n",
       "  <th>Omnibus:</th>       <td> 6.255</td> <th>  Durbin-Watson:     </th> <td>   2.123</td>\n",
       "</tr>\n",
       "<tr>\n",
       "  <th>Prob(Omnibus):</th> <td> 0.044</td> <th>  Jarque-Bera (JB):  </th> <td>   5.194</td>\n",
       "</tr>\n",
       "<tr>\n",
       "  <th>Skew:</th>          <td> 0.643</td> <th>  Prob(JB):          </th> <td>  0.0745</td>\n",
       "</tr>\n",
       "<tr>\n",
       "  <th>Kurtosis:</th>      <td> 3.916</td> <th>  Cond. No.          </th> <td>2.03e+03</td>\n",
       "</tr>\n",
       "</table><br/><br/>Notes:<br/>[1] Standard Errors assume that the covariance matrix of the errors is correctly specified.<br/>[2] The condition number is large, 2.03e+03. This might indicate that there are<br/>strong multicollinearity or other numerical problems."
      ],
      "text/plain": [
       "<class 'statsmodels.iolib.summary.Summary'>\n",
       "\"\"\"\n",
       "                            OLS Regression Results                            \n",
       "==============================================================================\n",
       "Dep. Variable:                  Score   R-squared:                       0.971\n",
       "Model:                            OLS   Adj. R-squared:                  0.967\n",
       "Method:                 Least Squares   F-statistic:                     203.9\n",
       "Date:                Sat, 19 Nov 2022   Prob (F-statistic):           2.63e-30\n",
       "Time:                        02:46:47   Log-Likelihood:                -75.753\n",
       "No. Observations:                  50   AIC:                             167.5\n",
       "Df Residuals:                      42   BIC:                             182.8\n",
       "Df Model:                           7                                         \n",
       "Covariance Type:            nonrobust                                         \n",
       "==========================================================================================\n",
       "                             coef    std err          t      P>|t|      [0.025      0.975]\n",
       "------------------------------------------------------------------------------------------\n",
       "const                     14.1814      2.562      5.535      0.000       9.011      19.352\n",
       "DistanceCovered(InKms)    -0.2884      0.843     -0.342      0.734      -1.989       1.412\n",
       "Goals                      0.1077      0.109      0.990      0.328      -0.112       0.327\n",
       "ShotsPerGame              -0.5191      0.305     -1.704      0.096      -1.134       0.096\n",
       "AgentCharges              -0.0042      0.004     -1.099      0.278      -0.012       0.004\n",
       "BMI                        0.1316      0.125      1.055      0.297      -0.120       0.383\n",
       "Cost                       0.1430      0.010     13.999      0.000       0.122       0.164\n",
       "PreviousClubCost          -0.0795      0.025     -3.150      0.003      -0.130      -0.029\n",
       "==============================================================================\n",
       "Omnibus:                        6.255   Durbin-Watson:                   2.123\n",
       "Prob(Omnibus):                  0.044   Jarque-Bera (JB):                5.194\n",
       "Skew:                           0.643   Prob(JB):                       0.0745\n",
       "Kurtosis:                       3.916   Cond. No.                     2.03e+03\n",
       "==============================================================================\n",
       "\n",
       "Notes:\n",
       "[1] Standard Errors assume that the covariance matrix of the errors is correctly specified.\n",
       "[2] The condition number is large, 2.03e+03. This might indicate that there are\n",
       "strong multicollinearity or other numerical problems.\n",
       "\"\"\""
      ]
     },
     "execution_count": 32,
     "metadata": {},
     "output_type": "execute_result"
    }
   ],
   "source": [
    "# Fit the linear regression model\n",
    "X_train_with_intercept = sm.add_constant(X_train)\n",
    "lr = sm.OLS(y_train, X_train_with_intercept).fit()\n",
    "lr.summary()"
   ]
  },
  {
   "cell_type": "markdown",
   "metadata": {},
   "source": [
    "### Feature Selection"
   ]
  },
  {
   "cell_type": "code",
   "execution_count": 41,
   "metadata": {},
   "outputs": [
    {
     "data": {
      "text/html": [
       "<div>\n",
       "<style scoped>\n",
       "    .dataframe tbody tr th:only-of-type {\n",
       "        vertical-align: middle;\n",
       "    }\n",
       "\n",
       "    .dataframe tbody tr th {\n",
       "        vertical-align: top;\n",
       "    }\n",
       "\n",
       "    .dataframe thead th {\n",
       "        text-align: right;\n",
       "    }\n",
       "</style>\n",
       "<table border=\"1\" class=\"dataframe\">\n",
       "  <thead>\n",
       "    <tr style=\"text-align: right;\">\n",
       "      <th></th>\n",
       "      <th>DistanceCovered(InKms)</th>\n",
       "      <th>BMI</th>\n",
       "      <th>Cost</th>\n",
       "      <th>PreviousClubCost</th>\n",
       "    </tr>\n",
       "  </thead>\n",
       "  <tbody>\n",
       "    <tr>\n",
       "      <th>0</th>\n",
       "      <td>3.96</td>\n",
       "      <td>20.56</td>\n",
       "      <td>109.1</td>\n",
       "      <td>63.32</td>\n",
       "    </tr>\n",
       "    <tr>\n",
       "      <th>1</th>\n",
       "      <td>4.41</td>\n",
       "      <td>20.67</td>\n",
       "      <td>102.8</td>\n",
       "      <td>58.55</td>\n",
       "    </tr>\n",
       "    <tr>\n",
       "      <th>2</th>\n",
       "      <td>4.14</td>\n",
       "      <td>21.86</td>\n",
       "      <td>104.6</td>\n",
       "      <td>55.36</td>\n",
       "    </tr>\n",
       "    <tr>\n",
       "      <th>3</th>\n",
       "      <td>4.11</td>\n",
       "      <td>21.88</td>\n",
       "      <td>126.4</td>\n",
       "      <td>57.18</td>\n",
       "    </tr>\n",
       "    <tr>\n",
       "      <th>4</th>\n",
       "      <td>4.45</td>\n",
       "      <td>18.96</td>\n",
       "      <td>80.3</td>\n",
       "      <td>53.20</td>\n",
       "    </tr>\n",
       "    <tr>\n",
       "      <th>...</th>\n",
       "      <td>...</td>\n",
       "      <td>...</td>\n",
       "      <td>...</td>\n",
       "      <td>...</td>\n",
       "    </tr>\n",
       "    <tr>\n",
       "      <th>197</th>\n",
       "      <td>4.90</td>\n",
       "      <td>27.56</td>\n",
       "      <td>67.2</td>\n",
       "      <td>82.00</td>\n",
       "    </tr>\n",
       "    <tr>\n",
       "      <th>198</th>\n",
       "      <td>5.66</td>\n",
       "      <td>23.76</td>\n",
       "      <td>56.5</td>\n",
       "      <td>72.00</td>\n",
       "    </tr>\n",
       "    <tr>\n",
       "      <th>199</th>\n",
       "      <td>5.03</td>\n",
       "      <td>22.01</td>\n",
       "      <td>47.6</td>\n",
       "      <td>68.00</td>\n",
       "    </tr>\n",
       "    <tr>\n",
       "      <th>200</th>\n",
       "      <td>4.97</td>\n",
       "      <td>22.34</td>\n",
       "      <td>60.4</td>\n",
       "      <td>63.00</td>\n",
       "    </tr>\n",
       "    <tr>\n",
       "      <th>201</th>\n",
       "      <td>5.38</td>\n",
       "      <td>21.07</td>\n",
       "      <td>34.9</td>\n",
       "      <td>72.00</td>\n",
       "    </tr>\n",
       "  </tbody>\n",
       "</table>\n",
       "<p>202 rows × 4 columns</p>\n",
       "</div>"
      ],
      "text/plain": [
       "     DistanceCovered(InKms)    BMI   Cost  PreviousClubCost\n",
       "0                      3.96  20.56  109.1             63.32\n",
       "1                      4.41  20.67  102.8             58.55\n",
       "2                      4.14  21.86  104.6             55.36\n",
       "3                      4.11  21.88  126.4             57.18\n",
       "4                      4.45  18.96   80.3             53.20\n",
       "..                      ...    ...    ...               ...\n",
       "197                    4.90  27.56   67.2             82.00\n",
       "198                    5.66  23.76   56.5             72.00\n",
       "199                    5.03  22.01   47.6             68.00\n",
       "200                    4.97  22.34   60.4             63.00\n",
       "201                    5.38  21.07   34.9             72.00\n",
       "\n",
       "[202 rows x 4 columns]"
      ]
     },
     "execution_count": 41,
     "metadata": {},
     "output_type": "execute_result"
    }
   ],
   "source": [
    "X =  df.iloc[:,[2, 7, 8, 9]]\n",
    "X"
   ]
  },
  {
   "cell_type": "code",
   "execution_count": 76,
   "metadata": {},
   "outputs": [],
   "source": [
    "# Split the data into train and test split\n",
    "X_train, X_test, y_train, y_test = train_test_split(X, y, test_size=0.75,\n",
    "                                                random_state=42)"
   ]
  },
  {
   "cell_type": "code",
   "execution_count": 77,
   "metadata": {},
   "outputs": [
    {
     "data": {
      "text/html": [
       "<table class=\"simpletable\">\n",
       "<caption>OLS Regression Results</caption>\n",
       "<tr>\n",
       "  <th>Dep. Variable:</th>          <td>Score</td>      <th>  R-squared:         </th> <td>   0.968</td>\n",
       "</tr>\n",
       "<tr>\n",
       "  <th>Model:</th>                   <td>OLS</td>       <th>  Adj. R-squared:    </th> <td>   0.965</td>\n",
       "</tr>\n",
       "<tr>\n",
       "  <th>Method:</th>             <td>Least Squares</td>  <th>  F-statistic:       </th> <td>   340.0</td>\n",
       "</tr>\n",
       "<tr>\n",
       "  <th>Date:</th>             <td>Sat, 19 Nov 2022</td> <th>  Prob (F-statistic):</th> <td>5.39e-33</td>\n",
       "</tr>\n",
       "<tr>\n",
       "  <th>Time:</th>                 <td>03:18:16</td>     <th>  Log-Likelihood:    </th> <td> -78.592</td>\n",
       "</tr>\n",
       "<tr>\n",
       "  <th>No. Observations:</th>      <td>    50</td>      <th>  AIC:               </th> <td>   167.2</td>\n",
       "</tr>\n",
       "<tr>\n",
       "  <th>Df Residuals:</th>          <td>    45</td>      <th>  BIC:               </th> <td>   176.7</td>\n",
       "</tr>\n",
       "<tr>\n",
       "  <th>Df Model:</th>              <td>     4</td>      <th>                     </th>     <td> </td>   \n",
       "</tr>\n",
       "<tr>\n",
       "  <th>Covariance Type:</th>      <td>nonrobust</td>    <th>                     </th>     <td> </td>   \n",
       "</tr>\n",
       "</table>\n",
       "<table class=\"simpletable\">\n",
       "<tr>\n",
       "             <td></td>               <th>coef</th>     <th>std err</th>      <th>t</th>      <th>P>|t|</th>  <th>[0.025</th>    <th>0.975]</th>  \n",
       "</tr>\n",
       "<tr>\n",
       "  <th>const</th>                  <td>   13.7519</td> <td>    2.504</td> <td>    5.492</td> <td> 0.000</td> <td>    8.709</td> <td>   18.795</td>\n",
       "</tr>\n",
       "<tr>\n",
       "  <th>DistanceCovered(InKms)</th> <td>   -1.3805</td> <td>    0.498</td> <td>   -2.772</td> <td> 0.008</td> <td>   -2.383</td> <td>   -0.378</td>\n",
       "</tr>\n",
       "<tr>\n",
       "  <th>BMI</th>                    <td>    0.0163</td> <td>    0.114</td> <td>    0.143</td> <td> 0.887</td> <td>   -0.213</td> <td>    0.245</td>\n",
       "</tr>\n",
       "<tr>\n",
       "  <th>Cost</th>                   <td>    0.1546</td> <td>    0.008</td> <td>   18.945</td> <td> 0.000</td> <td>    0.138</td> <td>    0.171</td>\n",
       "</tr>\n",
       "<tr>\n",
       "  <th>PreviousClubCost</th>       <td>   -0.0751</td> <td>    0.025</td> <td>   -2.968</td> <td> 0.005</td> <td>   -0.126</td> <td>   -0.024</td>\n",
       "</tr>\n",
       "</table>\n",
       "<table class=\"simpletable\">\n",
       "<tr>\n",
       "  <th>Omnibus:</th>       <td> 2.112</td> <th>  Durbin-Watson:     </th> <td>   2.105</td>\n",
       "</tr>\n",
       "<tr>\n",
       "  <th>Prob(Omnibus):</th> <td> 0.348</td> <th>  Jarque-Bera (JB):  </th> <td>   1.256</td>\n",
       "</tr>\n",
       "<tr>\n",
       "  <th>Skew:</th>          <td> 0.329</td> <th>  Prob(JB):          </th> <td>   0.534</td>\n",
       "</tr>\n",
       "<tr>\n",
       "  <th>Kurtosis:</th>      <td> 3.411</td> <th>  Cond. No.          </th> <td>1.53e+03</td>\n",
       "</tr>\n",
       "</table><br/><br/>Notes:<br/>[1] Standard Errors assume that the covariance matrix of the errors is correctly specified.<br/>[2] The condition number is large, 1.53e+03. This might indicate that there are<br/>strong multicollinearity or other numerical problems."
      ],
      "text/plain": [
       "<class 'statsmodels.iolib.summary.Summary'>\n",
       "\"\"\"\n",
       "                            OLS Regression Results                            \n",
       "==============================================================================\n",
       "Dep. Variable:                  Score   R-squared:                       0.968\n",
       "Model:                            OLS   Adj. R-squared:                  0.965\n",
       "Method:                 Least Squares   F-statistic:                     340.0\n",
       "Date:                Sat, 19 Nov 2022   Prob (F-statistic):           5.39e-33\n",
       "Time:                        03:18:16   Log-Likelihood:                -78.592\n",
       "No. Observations:                  50   AIC:                             167.2\n",
       "Df Residuals:                      45   BIC:                             176.7\n",
       "Df Model:                           4                                         \n",
       "Covariance Type:            nonrobust                                         \n",
       "==========================================================================================\n",
       "                             coef    std err          t      P>|t|      [0.025      0.975]\n",
       "------------------------------------------------------------------------------------------\n",
       "const                     13.7519      2.504      5.492      0.000       8.709      18.795\n",
       "DistanceCovered(InKms)    -1.3805      0.498     -2.772      0.008      -2.383      -0.378\n",
       "BMI                        0.0163      0.114      0.143      0.887      -0.213       0.245\n",
       "Cost                       0.1546      0.008     18.945      0.000       0.138       0.171\n",
       "PreviousClubCost          -0.0751      0.025     -2.968      0.005      -0.126      -0.024\n",
       "==============================================================================\n",
       "Omnibus:                        2.112   Durbin-Watson:                   2.105\n",
       "Prob(Omnibus):                  0.348   Jarque-Bera (JB):                1.256\n",
       "Skew:                           0.329   Prob(JB):                        0.534\n",
       "Kurtosis:                       3.411   Cond. No.                     1.53e+03\n",
       "==============================================================================\n",
       "\n",
       "Notes:\n",
       "[1] Standard Errors assume that the covariance matrix of the errors is correctly specified.\n",
       "[2] The condition number is large, 1.53e+03. This might indicate that there are\n",
       "strong multicollinearity or other numerical problems.\n",
       "\"\"\""
      ]
     },
     "execution_count": 77,
     "metadata": {},
     "output_type": "execute_result"
    }
   ],
   "source": [
    "# Fit the linear regression model\n",
    "X_train_with_intercept = sm.add_constant(X_train)\n",
    "lr = sm.OLS(y_train, X_train_with_intercept).fit()\n",
    "lr.summary()"
   ]
  },
  {
   "cell_type": "code",
   "execution_count": 78,
   "metadata": {},
   "outputs": [
    {
     "data": {
      "application/vnd.plotly.v1+json": {
       "config": {
        "plotlyServerURL": "https://plot.ly"
       },
       "data": [
        {
         "hovertemplate": "x=%{x}<br>y=%{y}<extra></extra>",
         "legendgroup": "",
         "marker": {
          "color": "#636efa",
          "symbol": "circle"
         },
         "mode": "markers",
         "name": "",
         "orientation": "v",
         "showlegend": false,
         "type": "scatter",
         "x": [
          10.377541734191407,
          19.294300873405415,
          18.83251111146042,
          7.6728646250582475,
          13.011776377966793,
          9.404943913929232,
          19.67354092305205,
          9.079046193921277,
          18.868482278179233,
          21.49555626290826,
          14.18691106251829,
          7.321763417381368,
          7.2610633572657335,
          15.401712661449963,
          12.383132526661026,
          11.865491066047776,
          15.215100997506893,
          6.6185658012200275,
          13.734227060473426,
          11.403278064372467,
          9.060108890618663,
          24.0733352052888,
          17.042664155456723,
          11.351497289198438,
          12.307711448933766,
          17.540819810317334,
          11.20727006320715,
          11.770145802629864,
          7.388135495810219,
          8.810061967772304,
          13.89920400439473,
          18.529482555886627,
          35.35394816210487,
          10.182296889335037,
          7.972326345527959,
          7.468635265590334,
          11.723672919926521,
          10.141688977696928,
          6.627160397769545,
          10.092478741842237,
          10.401206574370363,
          9.422614069692171,
          19.669607620257825,
          15.12157713179077,
          11.255566938425261,
          11.672401253128246,
          21.371083806486666,
          18.079126123631546,
          11.60204336401041,
          10.009153237981431,
          11.141554967748297,
          8.299980651157192,
          16.026815316447497,
          13.862176207013649,
          11.015642045560073,
          18.20624784717868,
          7.268782032454699,
          12.236938884408458,
          7.480625613130604,
          11.778493115609576,
          7.857453982578014,
          13.696267394690016,
          15.814488554300198,
          22.694403841103743,
          11.357009636389412,
          7.908970220443375,
          29.03578392785327,
          12.411171639933592,
          19.00325878744081,
          8.76261239387273,
          21.61407307716595,
          6.820513370176792,
          6.472736189404441,
          20.888668148373426,
          8.455511199355255,
          9.165645327767896,
          21.076100246095525,
          11.578699817004045,
          9.338004118095727,
          8.30130624410053,
          20.411873007088836,
          11.808822695997558,
          15.219354169402989,
          13.308981054311586,
          9.498590282924429,
          13.054867375199171,
          8.534093134774633,
          21.87327002139092,
          8.656589983692767,
          18.448238110396563,
          16.596121097035194,
          13.502674919022324,
          8.75722758049193,
          22.535656619649302,
          14.952434144365688,
          11.244692911536964,
          7.2506186520992575,
          17.122689989529853,
          20.826188737632382,
          11.668767195835978,
          16.341182936610213,
          20.46548010968337,
          8.882863007253226,
          7.057723816900593,
          11.473733281638957,
          11.103634815845842,
          28.982969052848713,
          10.567954289023668,
          6.835622844370915,
          8.079406749785353,
          8.872579626623958,
          20.737497064627444,
          16.884676703207653,
          8.599504380728245,
          18.05007887341763,
          9.946241211086027,
          13.6849962264882,
          23.664843642596185,
          7.518191442434845,
          16.70627613134557,
          18.154017992596394,
          9.785655262844333,
          7.279406289511435,
          7.5215170174711945,
          7.65758873243224,
          11.247152544438697,
          17.188154408997647,
          8.874237069033345,
          7.892101168203122,
          11.296936315536113,
          23.17516505759419,
          7.173713118957448,
          16.182704829448294,
          12.838133274375625,
          6.685680483027926,
          20.085891974551977,
          8.753896067787986,
          23.688037325170633,
          9.7868455815802,
          14.160068934266032,
          8.10000245263345,
          10.991572547078773,
          7.249053559421861,
          10.257792623765702,
          16.970913329055172,
          13.873493225409934,
          16.811403322091646,
          19.496805077864757,
          9.828733645122803,
          17.022973238116045,
          12.135984365258205,
          16.306036883990103
         ],
         "xaxis": "x",
         "y": [
          8.45,
          19.83,
          20.12,
          8.51,
          13.06,
          9.03,
          21.3,
          8.84,
          19.94,
          22.62,
          13.35,
          6.03,
          6.06,
          15.95,
          13.49,
          11.5,
          15.59,
          6.2,
          14.26,
          11.07,
          8.97,
          25.16,
          17.24,
          11.07,
          11.85,
          17.71,
          11.64,
          11.77,
          7.49,
          6.06,
          15.07,
          21.79,
          35.52,
          8.07,
          7.52,
          6.86,
          8.87,
          9.2,
          9.56,
          11.05,
          9.91,
          8.51,
          19.63,
          17.89,
          9.53,
          11.79,
          21.47,
          22.25,
          13.97,
          10.53,
          12.61,
          9.4,
          15.58,
          11.95,
          10.05,
          19.51,
          5.63,
          9.1,
          6.53,
          10.16,
          5.9,
          12.55,
          17.51,
          23.3,
          11.29,
          9.36,
          26.57,
          14.98,
          19.64,
          7.88,
          23.01,
          7.35,
          6.1,
          21.32,
          9.56,
          9,
          23.7,
          13.91,
          8.47,
          7.19,
          19.88,
          12.39,
          15.01,
          14.69,
          8.97,
          12.16,
          7.06,
          25.26,
          7.82,
          18.48,
          19.35,
          14.53,
          7.68,
          22.39,
          18.08,
          10.25,
          8.18,
          19.99,
          24.69,
          10.81,
          17.64,
          23.7,
          9.5,
          6.43,
          11.72,
          11.66,
          28.83,
          11.22,
          6.46,
          6.99,
          7.35,
          19.75,
          18.72,
          5.93,
          20.1,
          9.79,
          12.78,
          24.97,
          6.59,
          16.58,
          16.86,
          9.2,
          6.56,
          7.42,
          7.29,
          12.2,
          19.2,
          6.82,
          6,
          9.02,
          23.11,
          6.33,
          18.14,
          12.92,
          5.8,
          17.93,
          7.19,
          23.66,
          9.4,
          13.93,
          8.51,
          10.12,
          7.22,
          8.84,
          17.22,
          16.2,
          20.43,
          22.43,
          8.44,
          17.07,
          10.48,
          18.08
         ],
         "yaxis": "y"
        },
        {
         "hovertemplate": "<b>OLS trendline</b><br>y = 1.09691 * x + -1.16659<br>R<sup>2</sup>=0.947361<br><br>x=%{x}<br>y=%{y} <b>(trend)</b><extra></extra>",
         "legendgroup": "",
         "marker": {
          "color": "#636efa",
          "symbol": "circle"
         },
         "mode": "lines",
         "name": "",
         "showlegend": false,
         "type": "scatter",
         "x": [
          6.472736189404441,
          6.6185658012200275,
          6.627160397769545,
          6.685680483027926,
          6.820513370176792,
          6.835622844370915,
          7.057723816900593,
          7.173713118957448,
          7.249053559421861,
          7.2506186520992575,
          7.2610633572657335,
          7.268782032454699,
          7.279406289511435,
          7.321763417381368,
          7.388135495810219,
          7.468635265590334,
          7.480625613130604,
          7.518191442434845,
          7.5215170174711945,
          7.65758873243224,
          7.6728646250582475,
          7.857453982578014,
          7.892101168203122,
          7.908970220443375,
          7.972326345527959,
          8.079406749785353,
          8.10000245263345,
          8.299980651157192,
          8.30130624410053,
          8.455511199355255,
          8.534093134774633,
          8.599504380728245,
          8.656589983692767,
          8.753896067787986,
          8.75722758049193,
          8.76261239387273,
          8.810061967772304,
          8.872579626623958,
          8.874237069033345,
          8.882863007253226,
          9.060108890618663,
          9.079046193921277,
          9.165645327767896,
          9.338004118095727,
          9.404943913929232,
          9.422614069692171,
          9.498590282924429,
          9.785655262844333,
          9.7868455815802,
          9.828733645122803,
          9.946241211086027,
          10.009153237981431,
          10.092478741842237,
          10.141688977696928,
          10.182296889335037,
          10.257792623765702,
          10.377541734191407,
          10.401206574370363,
          10.567954289023668,
          10.991572547078773,
          11.015642045560073,
          11.103634815845842,
          11.141554967748297,
          11.20727006320715,
          11.244692911536964,
          11.247152544438697,
          11.255566938425261,
          11.296936315536113,
          11.351497289198438,
          11.357009636389412,
          11.403278064372467,
          11.473733281638957,
          11.578699817004045,
          11.60204336401041,
          11.668767195835978,
          11.672401253128246,
          11.723672919926521,
          11.770145802629864,
          11.778493115609576,
          11.808822695997558,
          11.865491066047776,
          12.135984365258205,
          12.236938884408458,
          12.307711448933766,
          12.383132526661026,
          12.411171639933592,
          12.838133274375625,
          13.011776377966793,
          13.054867375199171,
          13.308981054311586,
          13.502674919022324,
          13.6849962264882,
          13.696267394690016,
          13.734227060473426,
          13.862176207013649,
          13.873493225409934,
          13.89920400439473,
          14.160068934266032,
          14.18691106251829,
          14.952434144365688,
          15.12157713179077,
          15.215100997506893,
          15.219354169402989,
          15.401712661449963,
          15.814488554300198,
          16.026815316447497,
          16.182704829448294,
          16.306036883990103,
          16.341182936610213,
          16.596121097035194,
          16.70627613134557,
          16.811403322091646,
          16.884676703207653,
          16.970913329055172,
          17.022973238116045,
          17.042664155456723,
          17.122689989529853,
          17.188154408997647,
          17.540819810317334,
          18.05007887341763,
          18.079126123631546,
          18.154017992596394,
          18.20624784717868,
          18.448238110396563,
          18.529482555886627,
          18.83251111146042,
          18.868482278179233,
          19.00325878744081,
          19.294300873405415,
          19.496805077864757,
          19.669607620257825,
          19.67354092305205,
          20.085891974551977,
          20.411873007088836,
          20.46548010968337,
          20.737497064627444,
          20.826188737632382,
          20.888668148373426,
          21.076100246095525,
          21.371083806486666,
          21.49555626290826,
          21.61407307716595,
          21.87327002139092,
          22.535656619649302,
          22.694403841103743,
          23.17516505759419,
          23.664843642596185,
          23.688037325170633,
          24.0733352052888,
          28.982969052848713,
          29.03578392785327,
          35.35394816210487
         ],
         "xaxis": "x",
         "y": [
          5.933453722537551,
          6.093416389308501,
          6.102843929893467,
          6.167035480436931,
          6.314935676619543,
          6.3315094832388406,
          6.57513533820715,
          6.702365726075005,
          6.7850077740263215,
          6.786724547425791,
          6.798181499626821,
          6.806648229063961,
          6.8183021343997625,
          6.864764296963844,
          6.937568815418133,
          7.025870208311908,
          7.039022598585548,
          7.0802291146021155,
          7.083876987244293,
          7.233136072050682,
          7.249892425519229,
          7.452371232935504,
          7.490376245358557,
          7.508880159266397,
          7.578376433710438,
          7.695834519284889,
          7.718426251585254,
          7.937785307223152,
          7.939239369807761,
          8.108389075170994,
          8.194586767074625,
          8.26633733411846,
          8.32895537973172,
          8.435691868371581,
          8.439346254129516,
          8.445252935891421,
          8.497301078128263,
          8.565877626510176,
          8.56769569970206,
          8.577157619430672,
          8.771581260996436,
          8.792353870208117,
          8.887345746122026,
          9.076408662761486,
          9.149835918867547,
          9.169218575125813,
          9.252558011667407,
          9.567443851057876,
          9.568749529355488,
          9.614697168293313,
          9.743592962386291,
          9.81260209893176,
          9.904003081500809,
          9.957982519982059,
          10.002525941285581,
          10.085338333494597,
          10.216692910995416,
          10.242651225610702,
          10.425559270018272,
          10.89023242801208,
          10.916634618328384,
          11.013155194747906,
          11.054750372484145,
          11.126834236562443,
          11.167883914624893,
          11.170581922480364,
          11.179811796198019,
          11.22519048028636,
          11.285039222527285,
          11.291085798019445,
          11.341838323760436,
          11.419121697840362,
          11.53426104923588,
          11.559866932598947,
          11.633057294577634,
          11.637043545987293,
          11.693284198682818,
          11.744260993842646,
          11.753417285407728,
          11.78668625252972,
          11.84884662916337,
          12.14555474589408,
          12.256293257125085,
          12.333924734125818,
          12.416655234288214,
          12.447411754017859,
          12.915752311219642,
          13.106224010149713,
          13.153491164915424,
          13.432232233123184,
          13.644697909679211,
          13.84468885931082,
          13.857052371088294,
          13.898690892187334,
          14.039040211072743,
          14.051454016609407,
          14.07965655188302,
          14.365803167304309,
          14.395246696389943,
          15.234960332889786,
          15.420495787570532,
          15.5230835047044,
          15.527748872116852,
          15.727780610067658,
          16.180560616659065,
          16.413464995111873,
          16.584462516882464,
          16.719747278990972,
          16.758299506029022,
          17.03794496003209,
          17.158775652969926,
          17.274091229638582,
          17.35446588949479,
          17.449060125001242,
          17.50616541234001,
          17.52776467198122,
          17.615546197760054,
          17.68735509162122,
          18.074199007411682,
          18.632812836225924,
          18.664675196337374,
          18.746825199549527,
          18.804116902654428,
          19.06955961593469,
          19.158677854673147,
          19.491074377257544,
          19.530531684203407,
          19.67837003864424,
          19.997618424715185,
          20.21974829377504,
          20.40929796864458,
          20.413612466889134,
          20.865926458694492,
          21.223499894104066,
          21.28230232100574,
          21.58068175833698,
          21.677968971527864,
          21.746503564989265,
          21.952100616348183,
          22.27567246424851,
          22.41220815011393,
          22.542211003648454,
          22.826527980844684,
          23.55310967691846,
          23.727241861528835,
          24.25459597920357,
          24.791731690821596,
          24.817173185663805,
          25.239812152040784,
          30.625262427515406,
          30.68319584820905,
          37.61368402152877
         ],
         "yaxis": "y"
        }
       ],
       "layout": {
        "height": 400,
        "legend": {
         "tracegroupgap": 0
        },
        "template": {
         "data": {
          "bar": [
           {
            "error_x": {
             "color": "#f2f5fa"
            },
            "error_y": {
             "color": "#f2f5fa"
            },
            "marker": {
             "line": {
              "color": "rgb(17,17,17)",
              "width": 0.5
             },
             "pattern": {
              "fillmode": "overlay",
              "size": 10,
              "solidity": 0.2
             }
            },
            "type": "bar"
           }
          ],
          "barpolar": [
           {
            "marker": {
             "line": {
              "color": "rgb(17,17,17)",
              "width": 0.5
             },
             "pattern": {
              "fillmode": "overlay",
              "size": 10,
              "solidity": 0.2
             }
            },
            "type": "barpolar"
           }
          ],
          "carpet": [
           {
            "aaxis": {
             "endlinecolor": "#A2B1C6",
             "gridcolor": "#506784",
             "linecolor": "#506784",
             "minorgridcolor": "#506784",
             "startlinecolor": "#A2B1C6"
            },
            "baxis": {
             "endlinecolor": "#A2B1C6",
             "gridcolor": "#506784",
             "linecolor": "#506784",
             "minorgridcolor": "#506784",
             "startlinecolor": "#A2B1C6"
            },
            "type": "carpet"
           }
          ],
          "choropleth": [
           {
            "colorbar": {
             "outlinewidth": 0,
             "ticks": ""
            },
            "type": "choropleth"
           }
          ],
          "contour": [
           {
            "colorbar": {
             "outlinewidth": 0,
             "ticks": ""
            },
            "colorscale": [
             [
              0,
              "#0d0887"
             ],
             [
              0.1111111111111111,
              "#46039f"
             ],
             [
              0.2222222222222222,
              "#7201a8"
             ],
             [
              0.3333333333333333,
              "#9c179e"
             ],
             [
              0.4444444444444444,
              "#bd3786"
             ],
             [
              0.5555555555555556,
              "#d8576b"
             ],
             [
              0.6666666666666666,
              "#ed7953"
             ],
             [
              0.7777777777777778,
              "#fb9f3a"
             ],
             [
              0.8888888888888888,
              "#fdca26"
             ],
             [
              1,
              "#f0f921"
             ]
            ],
            "type": "contour"
           }
          ],
          "contourcarpet": [
           {
            "colorbar": {
             "outlinewidth": 0,
             "ticks": ""
            },
            "type": "contourcarpet"
           }
          ],
          "heatmap": [
           {
            "colorbar": {
             "outlinewidth": 0,
             "ticks": ""
            },
            "colorscale": [
             [
              0,
              "#0d0887"
             ],
             [
              0.1111111111111111,
              "#46039f"
             ],
             [
              0.2222222222222222,
              "#7201a8"
             ],
             [
              0.3333333333333333,
              "#9c179e"
             ],
             [
              0.4444444444444444,
              "#bd3786"
             ],
             [
              0.5555555555555556,
              "#d8576b"
             ],
             [
              0.6666666666666666,
              "#ed7953"
             ],
             [
              0.7777777777777778,
              "#fb9f3a"
             ],
             [
              0.8888888888888888,
              "#fdca26"
             ],
             [
              1,
              "#f0f921"
             ]
            ],
            "type": "heatmap"
           }
          ],
          "heatmapgl": [
           {
            "colorbar": {
             "outlinewidth": 0,
             "ticks": ""
            },
            "colorscale": [
             [
              0,
              "#0d0887"
             ],
             [
              0.1111111111111111,
              "#46039f"
             ],
             [
              0.2222222222222222,
              "#7201a8"
             ],
             [
              0.3333333333333333,
              "#9c179e"
             ],
             [
              0.4444444444444444,
              "#bd3786"
             ],
             [
              0.5555555555555556,
              "#d8576b"
             ],
             [
              0.6666666666666666,
              "#ed7953"
             ],
             [
              0.7777777777777778,
              "#fb9f3a"
             ],
             [
              0.8888888888888888,
              "#fdca26"
             ],
             [
              1,
              "#f0f921"
             ]
            ],
            "type": "heatmapgl"
           }
          ],
          "histogram": [
           {
            "marker": {
             "pattern": {
              "fillmode": "overlay",
              "size": 10,
              "solidity": 0.2
             }
            },
            "type": "histogram"
           }
          ],
          "histogram2d": [
           {
            "colorbar": {
             "outlinewidth": 0,
             "ticks": ""
            },
            "colorscale": [
             [
              0,
              "#0d0887"
             ],
             [
              0.1111111111111111,
              "#46039f"
             ],
             [
              0.2222222222222222,
              "#7201a8"
             ],
             [
              0.3333333333333333,
              "#9c179e"
             ],
             [
              0.4444444444444444,
              "#bd3786"
             ],
             [
              0.5555555555555556,
              "#d8576b"
             ],
             [
              0.6666666666666666,
              "#ed7953"
             ],
             [
              0.7777777777777778,
              "#fb9f3a"
             ],
             [
              0.8888888888888888,
              "#fdca26"
             ],
             [
              1,
              "#f0f921"
             ]
            ],
            "type": "histogram2d"
           }
          ],
          "histogram2dcontour": [
           {
            "colorbar": {
             "outlinewidth": 0,
             "ticks": ""
            },
            "colorscale": [
             [
              0,
              "#0d0887"
             ],
             [
              0.1111111111111111,
              "#46039f"
             ],
             [
              0.2222222222222222,
              "#7201a8"
             ],
             [
              0.3333333333333333,
              "#9c179e"
             ],
             [
              0.4444444444444444,
              "#bd3786"
             ],
             [
              0.5555555555555556,
              "#d8576b"
             ],
             [
              0.6666666666666666,
              "#ed7953"
             ],
             [
              0.7777777777777778,
              "#fb9f3a"
             ],
             [
              0.8888888888888888,
              "#fdca26"
             ],
             [
              1,
              "#f0f921"
             ]
            ],
            "type": "histogram2dcontour"
           }
          ],
          "mesh3d": [
           {
            "colorbar": {
             "outlinewidth": 0,
             "ticks": ""
            },
            "type": "mesh3d"
           }
          ],
          "parcoords": [
           {
            "line": {
             "colorbar": {
              "outlinewidth": 0,
              "ticks": ""
             }
            },
            "type": "parcoords"
           }
          ],
          "pie": [
           {
            "automargin": true,
            "type": "pie"
           }
          ],
          "scatter": [
           {
            "marker": {
             "line": {
              "color": "#283442"
             }
            },
            "type": "scatter"
           }
          ],
          "scatter3d": [
           {
            "line": {
             "colorbar": {
              "outlinewidth": 0,
              "ticks": ""
             }
            },
            "marker": {
             "colorbar": {
              "outlinewidth": 0,
              "ticks": ""
             }
            },
            "type": "scatter3d"
           }
          ],
          "scattercarpet": [
           {
            "marker": {
             "colorbar": {
              "outlinewidth": 0,
              "ticks": ""
             }
            },
            "type": "scattercarpet"
           }
          ],
          "scattergeo": [
           {
            "marker": {
             "colorbar": {
              "outlinewidth": 0,
              "ticks": ""
             }
            },
            "type": "scattergeo"
           }
          ],
          "scattergl": [
           {
            "marker": {
             "line": {
              "color": "#283442"
             }
            },
            "type": "scattergl"
           }
          ],
          "scattermapbox": [
           {
            "marker": {
             "colorbar": {
              "outlinewidth": 0,
              "ticks": ""
             }
            },
            "type": "scattermapbox"
           }
          ],
          "scatterpolar": [
           {
            "marker": {
             "colorbar": {
              "outlinewidth": 0,
              "ticks": ""
             }
            },
            "type": "scatterpolar"
           }
          ],
          "scatterpolargl": [
           {
            "marker": {
             "colorbar": {
              "outlinewidth": 0,
              "ticks": ""
             }
            },
            "type": "scatterpolargl"
           }
          ],
          "scatterternary": [
           {
            "marker": {
             "colorbar": {
              "outlinewidth": 0,
              "ticks": ""
             }
            },
            "type": "scatterternary"
           }
          ],
          "surface": [
           {
            "colorbar": {
             "outlinewidth": 0,
             "ticks": ""
            },
            "colorscale": [
             [
              0,
              "#0d0887"
             ],
             [
              0.1111111111111111,
              "#46039f"
             ],
             [
              0.2222222222222222,
              "#7201a8"
             ],
             [
              0.3333333333333333,
              "#9c179e"
             ],
             [
              0.4444444444444444,
              "#bd3786"
             ],
             [
              0.5555555555555556,
              "#d8576b"
             ],
             [
              0.6666666666666666,
              "#ed7953"
             ],
             [
              0.7777777777777778,
              "#fb9f3a"
             ],
             [
              0.8888888888888888,
              "#fdca26"
             ],
             [
              1,
              "#f0f921"
             ]
            ],
            "type": "surface"
           }
          ],
          "table": [
           {
            "cells": {
             "fill": {
              "color": "#506784"
             },
             "line": {
              "color": "rgb(17,17,17)"
             }
            },
            "header": {
             "fill": {
              "color": "#2a3f5f"
             },
             "line": {
              "color": "rgb(17,17,17)"
             }
            },
            "type": "table"
           }
          ]
         },
         "layout": {
          "annotationdefaults": {
           "arrowcolor": "#f2f5fa",
           "arrowhead": 0,
           "arrowwidth": 1
          },
          "autotypenumbers": "strict",
          "coloraxis": {
           "colorbar": {
            "outlinewidth": 0,
            "ticks": ""
           }
          },
          "colorscale": {
           "diverging": [
            [
             0,
             "#8e0152"
            ],
            [
             0.1,
             "#c51b7d"
            ],
            [
             0.2,
             "#de77ae"
            ],
            [
             0.3,
             "#f1b6da"
            ],
            [
             0.4,
             "#fde0ef"
            ],
            [
             0.5,
             "#f7f7f7"
            ],
            [
             0.6,
             "#e6f5d0"
            ],
            [
             0.7,
             "#b8e186"
            ],
            [
             0.8,
             "#7fbc41"
            ],
            [
             0.9,
             "#4d9221"
            ],
            [
             1,
             "#276419"
            ]
           ],
           "sequential": [
            [
             0,
             "#0d0887"
            ],
            [
             0.1111111111111111,
             "#46039f"
            ],
            [
             0.2222222222222222,
             "#7201a8"
            ],
            [
             0.3333333333333333,
             "#9c179e"
            ],
            [
             0.4444444444444444,
             "#bd3786"
            ],
            [
             0.5555555555555556,
             "#d8576b"
            ],
            [
             0.6666666666666666,
             "#ed7953"
            ],
            [
             0.7777777777777778,
             "#fb9f3a"
            ],
            [
             0.8888888888888888,
             "#fdca26"
            ],
            [
             1,
             "#f0f921"
            ]
           ],
           "sequentialminus": [
            [
             0,
             "#0d0887"
            ],
            [
             0.1111111111111111,
             "#46039f"
            ],
            [
             0.2222222222222222,
             "#7201a8"
            ],
            [
             0.3333333333333333,
             "#9c179e"
            ],
            [
             0.4444444444444444,
             "#bd3786"
            ],
            [
             0.5555555555555556,
             "#d8576b"
            ],
            [
             0.6666666666666666,
             "#ed7953"
            ],
            [
             0.7777777777777778,
             "#fb9f3a"
            ],
            [
             0.8888888888888888,
             "#fdca26"
            ],
            [
             1,
             "#f0f921"
            ]
           ]
          },
          "colorway": [
           "#636efa",
           "#EF553B",
           "#00cc96",
           "#ab63fa",
           "#FFA15A",
           "#19d3f3",
           "#FF6692",
           "#B6E880",
           "#FF97FF",
           "#FECB52"
          ],
          "font": {
           "color": "#f2f5fa"
          },
          "geo": {
           "bgcolor": "rgb(17,17,17)",
           "lakecolor": "rgb(17,17,17)",
           "landcolor": "rgb(17,17,17)",
           "showlakes": true,
           "showland": true,
           "subunitcolor": "#506784"
          },
          "hoverlabel": {
           "align": "left"
          },
          "hovermode": "closest",
          "mapbox": {
           "style": "dark"
          },
          "paper_bgcolor": "rgb(17,17,17)",
          "plot_bgcolor": "rgb(17,17,17)",
          "polar": {
           "angularaxis": {
            "gridcolor": "#506784",
            "linecolor": "#506784",
            "ticks": ""
           },
           "bgcolor": "rgb(17,17,17)",
           "radialaxis": {
            "gridcolor": "#506784",
            "linecolor": "#506784",
            "ticks": ""
           }
          },
          "scene": {
           "xaxis": {
            "backgroundcolor": "rgb(17,17,17)",
            "gridcolor": "#506784",
            "gridwidth": 2,
            "linecolor": "#506784",
            "showbackground": true,
            "ticks": "",
            "zerolinecolor": "#C8D4E3"
           },
           "yaxis": {
            "backgroundcolor": "rgb(17,17,17)",
            "gridcolor": "#506784",
            "gridwidth": 2,
            "linecolor": "#506784",
            "showbackground": true,
            "ticks": "",
            "zerolinecolor": "#C8D4E3"
           },
           "zaxis": {
            "backgroundcolor": "rgb(17,17,17)",
            "gridcolor": "#506784",
            "gridwidth": 2,
            "linecolor": "#506784",
            "showbackground": true,
            "ticks": "",
            "zerolinecolor": "#C8D4E3"
           }
          },
          "shapedefaults": {
           "line": {
            "color": "#f2f5fa"
           }
          },
          "sliderdefaults": {
           "bgcolor": "#C8D4E3",
           "bordercolor": "rgb(17,17,17)",
           "borderwidth": 1,
           "tickwidth": 0
          },
          "ternary": {
           "aaxis": {
            "gridcolor": "#506784",
            "linecolor": "#506784",
            "ticks": ""
           },
           "baxis": {
            "gridcolor": "#506784",
            "linecolor": "#506784",
            "ticks": ""
           },
           "bgcolor": "rgb(17,17,17)",
           "caxis": {
            "gridcolor": "#506784",
            "linecolor": "#506784",
            "ticks": ""
           }
          },
          "title": {
           "x": 0.05
          },
          "updatemenudefaults": {
           "bgcolor": "#506784",
           "borderwidth": 0
          },
          "xaxis": {
           "automargin": true,
           "gridcolor": "#283442",
           "linecolor": "#506784",
           "ticks": "",
           "title": {
            "standoff": 15
           },
           "zerolinecolor": "#283442",
           "zerolinewidth": 2
          },
          "yaxis": {
           "automargin": true,
           "gridcolor": "#283442",
           "linecolor": "#506784",
           "ticks": "",
           "title": {
            "standoff": 15
           },
           "zerolinecolor": "#283442",
           "zerolinewidth": 2
          }
         }
        },
        "title": {
         "text": "OLS: Predicted vs Actual"
        },
        "width": 650,
        "xaxis": {
         "anchor": "y",
         "domain": [
          0,
          1
         ],
         "title": {
          "text": "Predicted"
         }
        },
        "yaxis": {
         "anchor": "x",
         "domain": [
          0,
          1
         ],
         "title": {
          "text": "Actual"
         }
        }
       }
      }
     },
     "metadata": {},
     "output_type": "display_data"
    }
   ],
   "source": [
    "#Look at model plot\n",
    "x_test_with_intercept = sm.add_constant(X_test)\n",
    "y_pred = lr.predict(x_test_with_intercept)\n",
    "\n",
    "#plot the scatter plot between the fitted values and actual test values for repsonse variable\n",
    "fig = px.scatter(x=y_pred, y=y_test, template=\"plotly_dark\", trendline=\"ols\", height=400, width=650, title=\"OLS: Predicted vs Actual\")\n",
    "fig.update_layout(xaxis_title=\"Predicted\", yaxis_title=\"Actual\")\n"
   ]
  },
  {
   "cell_type": "markdown",
   "metadata": {},
   "source": [
    "### Scikit-Learn LinearRegression"
   ]
  },
  {
   "cell_type": "code",
   "execution_count": 84,
   "metadata": {},
   "outputs": [
    {
     "data": {
      "application/vnd.plotly.v1+json": {
       "config": {
        "plotlyServerURL": "https://plot.ly"
       },
       "data": [
        {
         "hovertemplate": "x=%{x}<br>y=%{y}<extra></extra>",
         "legendgroup": "",
         "marker": {
          "color": "#636efa",
          "symbol": "circle"
         },
         "mode": "markers",
         "name": "",
         "orientation": "v",
         "showlegend": false,
         "type": "scatter",
         "x": [
          10.377541734191418,
          19.2943008734054,
          18.83251111146041,
          7.672864625058253,
          13.011776377966793,
          9.404943913929234,
          19.673540923052037,
          9.07904619392129,
          18.86848227817922,
          21.495556262908238,
          14.186911062518286,
          7.32176341738138,
          7.261063357265747,
          15.40171266144996,
          12.383132526661026,
          11.86549106604778,
          15.215100997506884,
          6.618565801220042,
          13.734227060473428,
          11.403278064372472,
          9.060108890618665,
          24.07333520528877,
          17.042664155456716,
          11.351497289198448,
          12.30771144893377,
          17.54081981031732,
          11.207270063207154,
          11.770145802629868,
          7.388135495810228,
          8.810061967772315,
          13.89920400439473,
          18.529482555886613,
          35.35394816210483,
          10.182296889335046,
          7.972326345527967,
          7.468635265590344,
          11.723672919926512,
          10.141688977696932,
          6.627160397769569,
          10.092478741842246,
          10.40120657437037,
          9.42261406969218,
          19.669607620257814,
          15.121577131790762,
          11.255566938425257,
          11.672401253128243,
          21.371083806486652,
          18.07912612363154,
          11.602043364010408,
          10.00915323798144,
          11.1415549677483,
          8.299980651157203,
          16.02681531644749,
          13.862176207013643,
          11.015642045560075,
          18.20624784717867,
          7.2687820324547125,
          12.236938884408465,
          7.480625613130619,
          11.77849311560958,
          7.857453982578027,
          13.696267394690022,
          15.81448855430019,
          22.694403841103725,
          11.357009636389417,
          7.908970220443384,
          29.03578392785323,
          12.411171639933592,
          19.003258787440796,
          8.762612393872738,
          21.614073077165934,
          6.820513370176803,
          6.472736189404457,
          20.88866814837341,
          8.455511199355264,
          9.1656453277679,
          21.0761002460955,
          11.57869981700404,
          9.33800411809574,
          8.301306244100537,
          20.411873007088815,
          11.80882269599756,
          15.21935416940298,
          13.308981054311586,
          9.498590282924432,
          13.054867375199175,
          8.53409313477464,
          21.8732700213909,
          8.656589983692776,
          18.448238110396552,
          16.596121097035187,
          13.502674919022317,
          8.75722758049194,
          22.53565661964928,
          14.952434144365682,
          11.244692911536967,
          7.2506186520992655,
          17.122689989529846,
          20.82618873763236,
          11.668767195835986,
          16.341182936610206,
          20.465480109683348,
          8.882863007253235,
          7.057723816900603,
          11.473733281638953,
          11.10363481584584,
          28.982969052848674,
          10.567954289023671,
          6.83562284437092,
          8.079406749785363,
          8.872579626623972,
          20.737497064627423,
          16.88467670320764,
          8.599504380728256,
          18.05007887341762,
          9.946241211086031,
          13.6849962264882,
          23.664843642596164,
          7.518191442434857,
          16.706276131345568,
          18.154017992596383,
          9.78565526284434,
          7.279406289511449,
          7.521517017471204,
          7.657588732432255,
          11.247152544438698,
          17.188154408997644,
          8.874237069033356,
          7.89210116820313,
          11.296936315536117,
          23.175165057594164,
          7.173713118957462,
          16.182704829448284,
          12.838133274375632,
          6.685680483027939,
          20.085891974551956,
          8.753896067787995,
          23.68803732517061,
          9.786845581580206,
          14.160068934266032,
          8.100002452633454,
          10.991572547078778,
          7.2490535594218715,
          10.25779262376571,
          16.970913329055165,
          13.873493225409936,
          16.81140332209164,
          19.496805077864746,
          9.828733645122812,
          17.022973238116037,
          12.135984365258206,
          16.306036883990092
         ],
         "xaxis": "x",
         "y": [
          8.45,
          19.83,
          20.12,
          8.51,
          13.06,
          9.03,
          21.3,
          8.84,
          19.94,
          22.62,
          13.35,
          6.03,
          6.06,
          15.95,
          13.49,
          11.5,
          15.59,
          6.2,
          14.26,
          11.07,
          8.97,
          25.16,
          17.24,
          11.07,
          11.85,
          17.71,
          11.64,
          11.77,
          7.49,
          6.06,
          15.07,
          21.79,
          35.52,
          8.07,
          7.52,
          6.86,
          8.87,
          9.2,
          9.56,
          11.05,
          9.91,
          8.51,
          19.63,
          17.89,
          9.53,
          11.79,
          21.47,
          22.25,
          13.97,
          10.53,
          12.61,
          9.4,
          15.58,
          11.95,
          10.05,
          19.51,
          5.63,
          9.1,
          6.53,
          10.16,
          5.9,
          12.55,
          17.51,
          23.3,
          11.29,
          9.36,
          26.57,
          14.98,
          19.64,
          7.88,
          23.01,
          7.35,
          6.1,
          21.32,
          9.56,
          9,
          23.7,
          13.91,
          8.47,
          7.19,
          19.88,
          12.39,
          15.01,
          14.69,
          8.97,
          12.16,
          7.06,
          25.26,
          7.82,
          18.48,
          19.35,
          14.53,
          7.68,
          22.39,
          18.08,
          10.25,
          8.18,
          19.99,
          24.69,
          10.81,
          17.64,
          23.7,
          9.5,
          6.43,
          11.72,
          11.66,
          28.83,
          11.22,
          6.46,
          6.99,
          7.35,
          19.75,
          18.72,
          5.93,
          20.1,
          9.79,
          12.78,
          24.97,
          6.59,
          16.58,
          16.86,
          9.2,
          6.56,
          7.42,
          7.29,
          12.2,
          19.2,
          6.82,
          6,
          9.02,
          23.11,
          6.33,
          18.14,
          12.92,
          5.8,
          17.93,
          7.19,
          23.66,
          9.4,
          13.93,
          8.51,
          10.12,
          7.22,
          8.84,
          17.22,
          16.2,
          20.43,
          22.43,
          8.44,
          17.07,
          10.48,
          18.08
         ],
         "yaxis": "y"
        },
        {
         "hovertemplate": "<b>OLS trendline</b><br>y = 1.09691 * x + -1.16659<br>R<sup>2</sup>=0.947361<br><br>x=%{x}<br>y=%{y} <b>(trend)</b><extra></extra>",
         "legendgroup": "",
         "marker": {
          "color": "#636efa",
          "symbol": "circle"
         },
         "mode": "lines",
         "name": "",
         "showlegend": false,
         "type": "scatter",
         "x": [
          6.472736189404457,
          6.618565801220042,
          6.627160397769569,
          6.685680483027939,
          6.820513370176803,
          6.83562284437092,
          7.057723816900603,
          7.173713118957462,
          7.2490535594218715,
          7.2506186520992655,
          7.261063357265747,
          7.2687820324547125,
          7.279406289511449,
          7.32176341738138,
          7.388135495810228,
          7.468635265590344,
          7.480625613130619,
          7.518191442434857,
          7.521517017471204,
          7.657588732432255,
          7.672864625058253,
          7.857453982578027,
          7.89210116820313,
          7.908970220443384,
          7.972326345527967,
          8.079406749785363,
          8.100002452633454,
          8.299980651157203,
          8.301306244100537,
          8.455511199355264,
          8.53409313477464,
          8.599504380728256,
          8.656589983692776,
          8.753896067787995,
          8.75722758049194,
          8.762612393872738,
          8.810061967772315,
          8.872579626623972,
          8.874237069033356,
          8.882863007253235,
          9.060108890618665,
          9.07904619392129,
          9.1656453277679,
          9.33800411809574,
          9.404943913929234,
          9.42261406969218,
          9.498590282924432,
          9.78565526284434,
          9.786845581580206,
          9.828733645122812,
          9.946241211086031,
          10.00915323798144,
          10.092478741842246,
          10.141688977696932,
          10.182296889335046,
          10.25779262376571,
          10.377541734191418,
          10.40120657437037,
          10.567954289023671,
          10.991572547078778,
          11.015642045560075,
          11.10363481584584,
          11.1415549677483,
          11.207270063207154,
          11.244692911536967,
          11.247152544438698,
          11.255566938425257,
          11.296936315536117,
          11.351497289198448,
          11.357009636389417,
          11.403278064372472,
          11.473733281638953,
          11.57869981700404,
          11.602043364010408,
          11.668767195835986,
          11.672401253128243,
          11.723672919926512,
          11.770145802629868,
          11.77849311560958,
          11.80882269599756,
          11.86549106604778,
          12.135984365258206,
          12.236938884408465,
          12.30771144893377,
          12.383132526661026,
          12.411171639933592,
          12.838133274375632,
          13.011776377966793,
          13.054867375199175,
          13.308981054311586,
          13.502674919022317,
          13.6849962264882,
          13.696267394690022,
          13.734227060473428,
          13.862176207013643,
          13.873493225409936,
          13.89920400439473,
          14.160068934266032,
          14.186911062518286,
          14.952434144365682,
          15.121577131790762,
          15.215100997506884,
          15.21935416940298,
          15.40171266144996,
          15.81448855430019,
          16.02681531644749,
          16.182704829448284,
          16.306036883990092,
          16.341182936610206,
          16.596121097035187,
          16.706276131345568,
          16.81140332209164,
          16.88467670320764,
          16.970913329055165,
          17.022973238116037,
          17.042664155456716,
          17.122689989529846,
          17.188154408997644,
          17.54081981031732,
          18.05007887341762,
          18.07912612363154,
          18.154017992596383,
          18.20624784717867,
          18.448238110396552,
          18.529482555886613,
          18.83251111146041,
          18.86848227817922,
          19.003258787440796,
          19.2943008734054,
          19.496805077864746,
          19.669607620257814,
          19.673540923052037,
          20.085891974551956,
          20.411873007088815,
          20.465480109683348,
          20.737497064627423,
          20.82618873763236,
          20.88866814837341,
          21.0761002460955,
          21.371083806486652,
          21.495556262908238,
          21.614073077165934,
          21.8732700213909,
          22.53565661964928,
          22.694403841103725,
          23.175165057594164,
          23.664843642596164,
          23.68803732517061,
          24.07333520528877,
          28.982969052848674,
          29.03578392785323,
          35.35394816210483
         ],
         "xaxis": "x",
         "y": [
          5.933453722537552,
          6.0934163893085005,
          6.102843929893478,
          6.16703548043693,
          6.314935676619539,
          6.33150948323883,
          6.575135338207146,
          6.702365726075006,
          6.785007774026319,
          6.786724547425786,
          6.79818149962682,
          6.806648229063961,
          6.818302134399763,
          6.864764296963842,
          6.937568815418128,
          7.025870208311905,
          7.039022598585551,
          7.080229114602115,
          7.083876987244289,
          7.2331360720506845,
          7.249892425519221,
          7.452371232935505,
          7.4903762453585525,
          7.508880159266393,
          7.578376433710434,
          7.6958345192848885,
          7.718426251585245,
          7.937785307223151,
          7.939239369807757,
          8.108389075170992,
          8.194586767074622,
          8.26633733411846,
          8.328955379731719,
          8.43569186837158,
          8.439346254129516,
          8.445252935891418,
          8.497301078128263,
          8.565877626510181,
          8.56769569970206,
          8.57715761943067,
          8.771581260996427,
          8.792353870208121,
          8.88734574612202,
          9.07640866276149,
          9.14983591886754,
          9.169218575125813,
          9.252558011667402,
          9.567443851057876,
          9.568749529355484,
          9.614697168293313,
          9.743592962386286,
          9.812602098931762,
          9.90400308150081,
          9.957982519982055,
          10.002525941285583,
          10.085338333494597,
          10.21669291099542,
          10.242651225610704,
          10.42555927001827,
          10.89023242801208,
          10.91663461832838,
          11.013155194747899,
          11.054750372484143,
          11.126834236562443,
          11.167883914624893,
          11.17058192248036,
          11.17981179619801,
          11.22519048028636,
          11.285039222527292,
          11.291085798019447,
          11.341838323760436,
          11.419121697840355,
          11.534261049235871,
          11.559866932598942,
          11.63305729457764,
          11.637043545987284,
          11.693284198682804,
          11.744260993842646,
          11.75341728540773,
          11.786686252529718,
          11.848846629163372,
          12.145554745894078,
          12.25629325712509,
          12.33392473412582,
          12.416655234288212,
          12.447411754017857,
          12.915752311219649,
          13.106224010149713,
          13.153491164915428,
          13.432232233123184,
          13.644697909679204,
          13.844688859310821,
          13.857052371088301,
          13.898690892187338,
          14.039040211072738,
          14.051454016609409,
          14.079656551883021,
          14.365803167304312,
          14.395246696389941,
          15.234960332889784,
          15.420495787570527,
          15.523083504704395,
          15.527748872116847,
          15.72778061006766,
          16.180560616659065,
          16.413464995111873,
          16.584462516882457,
          16.71974727899097,
          16.758299506029022,
          17.03794496003209,
          17.158775652969933,
          17.274091229638582,
          17.354465889494783,
          17.449060125001242,
          17.506165412340014,
          17.52776467198122,
          17.615546197760054,
          17.687355091621225,
          18.07419900741168,
          18.632812836225924,
          18.664675196337377,
          18.746825199549527,
          18.804116902654428,
          19.069559615934693,
          19.158677854673144,
          19.491074377257544,
          19.530531684203403,
          19.678370038644236,
          19.997618424715185,
          20.219748293775044,
          20.409297968644584,
          20.413612466889134,
          20.865926458694485,
          21.22349989410406,
          21.282302321005734,
          21.580681758336976,
          21.67796897152786,
          21.746503564989265,
          21.952100616348176,
          22.275672464248515,
          22.412208150113926,
          22.542211003648454,
          22.826527980844684,
          23.55310967691846,
          23.72724186152884,
          24.254595979203568,
          24.791731690821596,
          24.8171731856638,
          25.23981215204078,
          30.625262427515402,
          30.683195848209046,
          37.613684021528776
         ],
         "yaxis": "y"
        }
       ],
       "layout": {
        "height": 400,
        "legend": {
         "tracegroupgap": 0
        },
        "template": {
         "data": {
          "bar": [
           {
            "error_x": {
             "color": "#f2f5fa"
            },
            "error_y": {
             "color": "#f2f5fa"
            },
            "marker": {
             "line": {
              "color": "rgb(17,17,17)",
              "width": 0.5
             },
             "pattern": {
              "fillmode": "overlay",
              "size": 10,
              "solidity": 0.2
             }
            },
            "type": "bar"
           }
          ],
          "barpolar": [
           {
            "marker": {
             "line": {
              "color": "rgb(17,17,17)",
              "width": 0.5
             },
             "pattern": {
              "fillmode": "overlay",
              "size": 10,
              "solidity": 0.2
             }
            },
            "type": "barpolar"
           }
          ],
          "carpet": [
           {
            "aaxis": {
             "endlinecolor": "#A2B1C6",
             "gridcolor": "#506784",
             "linecolor": "#506784",
             "minorgridcolor": "#506784",
             "startlinecolor": "#A2B1C6"
            },
            "baxis": {
             "endlinecolor": "#A2B1C6",
             "gridcolor": "#506784",
             "linecolor": "#506784",
             "minorgridcolor": "#506784",
             "startlinecolor": "#A2B1C6"
            },
            "type": "carpet"
           }
          ],
          "choropleth": [
           {
            "colorbar": {
             "outlinewidth": 0,
             "ticks": ""
            },
            "type": "choropleth"
           }
          ],
          "contour": [
           {
            "colorbar": {
             "outlinewidth": 0,
             "ticks": ""
            },
            "colorscale": [
             [
              0,
              "#0d0887"
             ],
             [
              0.1111111111111111,
              "#46039f"
             ],
             [
              0.2222222222222222,
              "#7201a8"
             ],
             [
              0.3333333333333333,
              "#9c179e"
             ],
             [
              0.4444444444444444,
              "#bd3786"
             ],
             [
              0.5555555555555556,
              "#d8576b"
             ],
             [
              0.6666666666666666,
              "#ed7953"
             ],
             [
              0.7777777777777778,
              "#fb9f3a"
             ],
             [
              0.8888888888888888,
              "#fdca26"
             ],
             [
              1,
              "#f0f921"
             ]
            ],
            "type": "contour"
           }
          ],
          "contourcarpet": [
           {
            "colorbar": {
             "outlinewidth": 0,
             "ticks": ""
            },
            "type": "contourcarpet"
           }
          ],
          "heatmap": [
           {
            "colorbar": {
             "outlinewidth": 0,
             "ticks": ""
            },
            "colorscale": [
             [
              0,
              "#0d0887"
             ],
             [
              0.1111111111111111,
              "#46039f"
             ],
             [
              0.2222222222222222,
              "#7201a8"
             ],
             [
              0.3333333333333333,
              "#9c179e"
             ],
             [
              0.4444444444444444,
              "#bd3786"
             ],
             [
              0.5555555555555556,
              "#d8576b"
             ],
             [
              0.6666666666666666,
              "#ed7953"
             ],
             [
              0.7777777777777778,
              "#fb9f3a"
             ],
             [
              0.8888888888888888,
              "#fdca26"
             ],
             [
              1,
              "#f0f921"
             ]
            ],
            "type": "heatmap"
           }
          ],
          "heatmapgl": [
           {
            "colorbar": {
             "outlinewidth": 0,
             "ticks": ""
            },
            "colorscale": [
             [
              0,
              "#0d0887"
             ],
             [
              0.1111111111111111,
              "#46039f"
             ],
             [
              0.2222222222222222,
              "#7201a8"
             ],
             [
              0.3333333333333333,
              "#9c179e"
             ],
             [
              0.4444444444444444,
              "#bd3786"
             ],
             [
              0.5555555555555556,
              "#d8576b"
             ],
             [
              0.6666666666666666,
              "#ed7953"
             ],
             [
              0.7777777777777778,
              "#fb9f3a"
             ],
             [
              0.8888888888888888,
              "#fdca26"
             ],
             [
              1,
              "#f0f921"
             ]
            ],
            "type": "heatmapgl"
           }
          ],
          "histogram": [
           {
            "marker": {
             "pattern": {
              "fillmode": "overlay",
              "size": 10,
              "solidity": 0.2
             }
            },
            "type": "histogram"
           }
          ],
          "histogram2d": [
           {
            "colorbar": {
             "outlinewidth": 0,
             "ticks": ""
            },
            "colorscale": [
             [
              0,
              "#0d0887"
             ],
             [
              0.1111111111111111,
              "#46039f"
             ],
             [
              0.2222222222222222,
              "#7201a8"
             ],
             [
              0.3333333333333333,
              "#9c179e"
             ],
             [
              0.4444444444444444,
              "#bd3786"
             ],
             [
              0.5555555555555556,
              "#d8576b"
             ],
             [
              0.6666666666666666,
              "#ed7953"
             ],
             [
              0.7777777777777778,
              "#fb9f3a"
             ],
             [
              0.8888888888888888,
              "#fdca26"
             ],
             [
              1,
              "#f0f921"
             ]
            ],
            "type": "histogram2d"
           }
          ],
          "histogram2dcontour": [
           {
            "colorbar": {
             "outlinewidth": 0,
             "ticks": ""
            },
            "colorscale": [
             [
              0,
              "#0d0887"
             ],
             [
              0.1111111111111111,
              "#46039f"
             ],
             [
              0.2222222222222222,
              "#7201a8"
             ],
             [
              0.3333333333333333,
              "#9c179e"
             ],
             [
              0.4444444444444444,
              "#bd3786"
             ],
             [
              0.5555555555555556,
              "#d8576b"
             ],
             [
              0.6666666666666666,
              "#ed7953"
             ],
             [
              0.7777777777777778,
              "#fb9f3a"
             ],
             [
              0.8888888888888888,
              "#fdca26"
             ],
             [
              1,
              "#f0f921"
             ]
            ],
            "type": "histogram2dcontour"
           }
          ],
          "mesh3d": [
           {
            "colorbar": {
             "outlinewidth": 0,
             "ticks": ""
            },
            "type": "mesh3d"
           }
          ],
          "parcoords": [
           {
            "line": {
             "colorbar": {
              "outlinewidth": 0,
              "ticks": ""
             }
            },
            "type": "parcoords"
           }
          ],
          "pie": [
           {
            "automargin": true,
            "type": "pie"
           }
          ],
          "scatter": [
           {
            "marker": {
             "line": {
              "color": "#283442"
             }
            },
            "type": "scatter"
           }
          ],
          "scatter3d": [
           {
            "line": {
             "colorbar": {
              "outlinewidth": 0,
              "ticks": ""
             }
            },
            "marker": {
             "colorbar": {
              "outlinewidth": 0,
              "ticks": ""
             }
            },
            "type": "scatter3d"
           }
          ],
          "scattercarpet": [
           {
            "marker": {
             "colorbar": {
              "outlinewidth": 0,
              "ticks": ""
             }
            },
            "type": "scattercarpet"
           }
          ],
          "scattergeo": [
           {
            "marker": {
             "colorbar": {
              "outlinewidth": 0,
              "ticks": ""
             }
            },
            "type": "scattergeo"
           }
          ],
          "scattergl": [
           {
            "marker": {
             "line": {
              "color": "#283442"
             }
            },
            "type": "scattergl"
           }
          ],
          "scattermapbox": [
           {
            "marker": {
             "colorbar": {
              "outlinewidth": 0,
              "ticks": ""
             }
            },
            "type": "scattermapbox"
           }
          ],
          "scatterpolar": [
           {
            "marker": {
             "colorbar": {
              "outlinewidth": 0,
              "ticks": ""
             }
            },
            "type": "scatterpolar"
           }
          ],
          "scatterpolargl": [
           {
            "marker": {
             "colorbar": {
              "outlinewidth": 0,
              "ticks": ""
             }
            },
            "type": "scatterpolargl"
           }
          ],
          "scatterternary": [
           {
            "marker": {
             "colorbar": {
              "outlinewidth": 0,
              "ticks": ""
             }
            },
            "type": "scatterternary"
           }
          ],
          "surface": [
           {
            "colorbar": {
             "outlinewidth": 0,
             "ticks": ""
            },
            "colorscale": [
             [
              0,
              "#0d0887"
             ],
             [
              0.1111111111111111,
              "#46039f"
             ],
             [
              0.2222222222222222,
              "#7201a8"
             ],
             [
              0.3333333333333333,
              "#9c179e"
             ],
             [
              0.4444444444444444,
              "#bd3786"
             ],
             [
              0.5555555555555556,
              "#d8576b"
             ],
             [
              0.6666666666666666,
              "#ed7953"
             ],
             [
              0.7777777777777778,
              "#fb9f3a"
             ],
             [
              0.8888888888888888,
              "#fdca26"
             ],
             [
              1,
              "#f0f921"
             ]
            ],
            "type": "surface"
           }
          ],
          "table": [
           {
            "cells": {
             "fill": {
              "color": "#506784"
             },
             "line": {
              "color": "rgb(17,17,17)"
             }
            },
            "header": {
             "fill": {
              "color": "#2a3f5f"
             },
             "line": {
              "color": "rgb(17,17,17)"
             }
            },
            "type": "table"
           }
          ]
         },
         "layout": {
          "annotationdefaults": {
           "arrowcolor": "#f2f5fa",
           "arrowhead": 0,
           "arrowwidth": 1
          },
          "autotypenumbers": "strict",
          "coloraxis": {
           "colorbar": {
            "outlinewidth": 0,
            "ticks": ""
           }
          },
          "colorscale": {
           "diverging": [
            [
             0,
             "#8e0152"
            ],
            [
             0.1,
             "#c51b7d"
            ],
            [
             0.2,
             "#de77ae"
            ],
            [
             0.3,
             "#f1b6da"
            ],
            [
             0.4,
             "#fde0ef"
            ],
            [
             0.5,
             "#f7f7f7"
            ],
            [
             0.6,
             "#e6f5d0"
            ],
            [
             0.7,
             "#b8e186"
            ],
            [
             0.8,
             "#7fbc41"
            ],
            [
             0.9,
             "#4d9221"
            ],
            [
             1,
             "#276419"
            ]
           ],
           "sequential": [
            [
             0,
             "#0d0887"
            ],
            [
             0.1111111111111111,
             "#46039f"
            ],
            [
             0.2222222222222222,
             "#7201a8"
            ],
            [
             0.3333333333333333,
             "#9c179e"
            ],
            [
             0.4444444444444444,
             "#bd3786"
            ],
            [
             0.5555555555555556,
             "#d8576b"
            ],
            [
             0.6666666666666666,
             "#ed7953"
            ],
            [
             0.7777777777777778,
             "#fb9f3a"
            ],
            [
             0.8888888888888888,
             "#fdca26"
            ],
            [
             1,
             "#f0f921"
            ]
           ],
           "sequentialminus": [
            [
             0,
             "#0d0887"
            ],
            [
             0.1111111111111111,
             "#46039f"
            ],
            [
             0.2222222222222222,
             "#7201a8"
            ],
            [
             0.3333333333333333,
             "#9c179e"
            ],
            [
             0.4444444444444444,
             "#bd3786"
            ],
            [
             0.5555555555555556,
             "#d8576b"
            ],
            [
             0.6666666666666666,
             "#ed7953"
            ],
            [
             0.7777777777777778,
             "#fb9f3a"
            ],
            [
             0.8888888888888888,
             "#fdca26"
            ],
            [
             1,
             "#f0f921"
            ]
           ]
          },
          "colorway": [
           "#636efa",
           "#EF553B",
           "#00cc96",
           "#ab63fa",
           "#FFA15A",
           "#19d3f3",
           "#FF6692",
           "#B6E880",
           "#FF97FF",
           "#FECB52"
          ],
          "font": {
           "color": "#f2f5fa"
          },
          "geo": {
           "bgcolor": "rgb(17,17,17)",
           "lakecolor": "rgb(17,17,17)",
           "landcolor": "rgb(17,17,17)",
           "showlakes": true,
           "showland": true,
           "subunitcolor": "#506784"
          },
          "hoverlabel": {
           "align": "left"
          },
          "hovermode": "closest",
          "mapbox": {
           "style": "dark"
          },
          "paper_bgcolor": "rgb(17,17,17)",
          "plot_bgcolor": "rgb(17,17,17)",
          "polar": {
           "angularaxis": {
            "gridcolor": "#506784",
            "linecolor": "#506784",
            "ticks": ""
           },
           "bgcolor": "rgb(17,17,17)",
           "radialaxis": {
            "gridcolor": "#506784",
            "linecolor": "#506784",
            "ticks": ""
           }
          },
          "scene": {
           "xaxis": {
            "backgroundcolor": "rgb(17,17,17)",
            "gridcolor": "#506784",
            "gridwidth": 2,
            "linecolor": "#506784",
            "showbackground": true,
            "ticks": "",
            "zerolinecolor": "#C8D4E3"
           },
           "yaxis": {
            "backgroundcolor": "rgb(17,17,17)",
            "gridcolor": "#506784",
            "gridwidth": 2,
            "linecolor": "#506784",
            "showbackground": true,
            "ticks": "",
            "zerolinecolor": "#C8D4E3"
           },
           "zaxis": {
            "backgroundcolor": "rgb(17,17,17)",
            "gridcolor": "#506784",
            "gridwidth": 2,
            "linecolor": "#506784",
            "showbackground": true,
            "ticks": "",
            "zerolinecolor": "#C8D4E3"
           }
          },
          "shapedefaults": {
           "line": {
            "color": "#f2f5fa"
           }
          },
          "sliderdefaults": {
           "bgcolor": "#C8D4E3",
           "bordercolor": "rgb(17,17,17)",
           "borderwidth": 1,
           "tickwidth": 0
          },
          "ternary": {
           "aaxis": {
            "gridcolor": "#506784",
            "linecolor": "#506784",
            "ticks": ""
           },
           "baxis": {
            "gridcolor": "#506784",
            "linecolor": "#506784",
            "ticks": ""
           },
           "bgcolor": "rgb(17,17,17)",
           "caxis": {
            "gridcolor": "#506784",
            "linecolor": "#506784",
            "ticks": ""
           }
          },
          "title": {
           "x": 0.05
          },
          "updatemenudefaults": {
           "bgcolor": "#506784",
           "borderwidth": 0
          },
          "xaxis": {
           "automargin": true,
           "gridcolor": "#283442",
           "linecolor": "#506784",
           "ticks": "",
           "title": {
            "standoff": 15
           },
           "zerolinecolor": "#283442",
           "zerolinewidth": 2
          },
          "yaxis": {
           "automargin": true,
           "gridcolor": "#283442",
           "linecolor": "#506784",
           "ticks": "",
           "title": {
            "standoff": 15
           },
           "zerolinecolor": "#283442",
           "zerolinewidth": 2
          }
         }
        },
        "title": {
         "text": "Scikit-Learn: Predicted vs Actual"
        },
        "width": 650,
        "xaxis": {
         "anchor": "y",
         "domain": [
          0,
          1
         ],
         "title": {
          "text": "Predicted"
         }
        },
        "yaxis": {
         "anchor": "x",
         "domain": [
          0,
          1
         ],
         "title": {
          "text": "Actual"
         }
        }
       }
      }
     },
     "metadata": {},
     "output_type": "display_data"
    }
   ],
   "source": [
    "# Instantiate model\n",
    "lr = LinearRegression()\n",
    "\n",
    "# Fit model\n",
    "lr.fit(X_train, y_train)\n",
    "\n",
    "\n",
    "# Predict\n",
    "y_pred = lr.predict(X_test)\n",
    "\n",
    "\n",
    "fig = px.scatter(x=y_pred, y=y_test, template=\"plotly_dark\", trendline=\"ols\", height=400, width=650, title=\"Scikit-Learn: Predicted vs Actual\")\n",
    "fig.update_layout(xaxis_title=\"Predicted\", yaxis_title=\"Actual\")\n"
   ]
  },
  {
   "cell_type": "code",
   "execution_count": 91,
   "metadata": {},
   "outputs": [
    {
     "name": "stdout",
     "output_type": "stream",
     "text": [
      "R-Squared: 0.940\n",
      "Mean Squared Error: 1.489\n"
     ]
    }
   ],
   "source": [
    "# Calcualte R-Squared and RMSE\n",
    "r2 = r2_score(y_test, y_pred)\n",
    "rmse = mean_squared_error(y_test, y_pred, squared=False)\n",
    "\n",
    "print(f\"R-Squared: {r2:.3f}\")\n",
    "print(f\"Mean Squared Error: {rmse:.3f}\")"
   ]
  },
  {
   "cell_type": "code",
   "execution_count": null,
   "metadata": {},
   "outputs": [],
   "source": []
  }
 ],
 "metadata": {
  "kernelspec": {
   "display_name": "Python 3.8.13 ('mlenv')",
   "language": "python",
   "name": "python3"
  },
  "language_info": {
   "codemirror_mode": {
    "name": "ipython",
    "version": 3
   },
   "file_extension": ".py",
   "mimetype": "text/x-python",
   "name": "python",
   "nbconvert_exporter": "python",
   "pygments_lexer": "ipython3",
   "version": "3.8.13"
  },
  "orig_nbformat": 4,
  "vscode": {
   "interpreter": {
    "hash": "b70179fab6876b7c595114bbc672b8e83584a7ba0b944e182b5db9aa757417c5"
   }
  }
 },
 "nbformat": 4,
 "nbformat_minor": 2
}
